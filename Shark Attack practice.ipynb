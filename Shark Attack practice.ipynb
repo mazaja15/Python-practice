{
 "cells": [
  {
   "cell_type": "code",
   "execution_count": 19,
   "metadata": {
    "collapsed": true
   },
   "outputs": [],
   "source": [
    "import csv"
   ]
  },
  {
   "cell_type": "code",
   "execution_count": 16,
   "metadata": {},
   "outputs": [
    {
     "name": "stdout",
     "output_type": "stream",
     "text": [
      "lawrence\n",
      "josh\n",
      "jordan\n",
      "rita\n",
      "alex\n",
      "kat\n",
      "tom\n"
     ]
    }
   ],
   "source": [
    "#  reading a text file using a csv.dictreader\n",
    "fn=['peopleid','name','age','location']\n",
    "with open(r'c:\\data\\people.txt') as p:\n",
    "    file = csv.DictReader(p,  fieldnames=fn, skipinitialspace=True, quotechar='\"')\n",
    "    for row in file:\n",
    "        print row['name']\n",
    "      "
   ]
  },
  {
   "cell_type": "code",
   "execution_count": 8,
   "metadata": {},
   "outputs": [
    {
     "name": "stdout",
     "output_type": "stream",
     "text": [
      "name\n",
      "lawrence\n",
      "josh\n",
      "jordan\n",
      "rita\n",
      "alex\n",
      "kat\n",
      "tom\n"
     ]
    }
   ],
   "source": [
    "with open(r'c:\\data\\people.txt') as p:\n",
    "    file = csv.reader(p)\n",
    "    for row in file:\n",
    "        print row[1]\n",
    "      "
   ]
  },
  {
   "cell_type": "code",
   "execution_count": 55,
   "metadata": {
    "collapsed": true
   },
   "outputs": [],
   "source": [
    "fc = dict()"
   ]
  },
  {
   "cell_type": "code",
   "execution_count": 62,
   "metadata": {
    "collapsed": true
   },
   "outputs": [],
   "source": [
    "with open(r'C:\\Data\\sharkattacks.csv') as s:\n",
    "    file = csv.DictReader(s, skipinitialspace=True)\n",
    "    for row in file:\n",
    "        fc[row['Fatal (Y/N)']] = fc.get(row['Fatal (Y/N)'], 0) + 1\n",
    "        \n",
    "    #    c = 0\n",
    "    #    if c <= 10:\n",
    "    #        print row['Sex '],row['Age'],row['Fatal (Y/N)']\n",
    "    #   c += 1\n",
    "      "
   ]
  },
  {
   "cell_type": "code",
   "execution_count": 63,
   "metadata": {},
   "outputs": [
    {
     "data": {
      "text/plain": [
       "{'': 119006,\n",
       " '--M524--M3133Y': 2,\n",
       " '2017': 2,\n",
       " 'F': 2,\n",
       " 'Fatal (Y/N)': 196605,\n",
       " 'N': 8752,\n",
       " 'N ': 2,\n",
       " 'UNKNOWN': 188,\n",
       " 'Y': 3114,\n",
       " 'n': 2}"
      ]
     },
     "execution_count": 63,
     "metadata": {},
     "output_type": "execute_result"
    }
   ],
   "source": [
    "fc"
   ]
  },
  {
   "cell_type": "code",
   "execution_count": null,
   "metadata": {
    "collapsed": true
   },
   "outputs": [],
   "source": []
  }
 ],
 "metadata": {
  "kernelspec": {
   "display_name": "Python 2",
   "language": "python",
   "name": "python2"
  },
  "language_info": {
   "codemirror_mode": {
    "name": "ipython",
    "version": 2
   },
   "file_extension": ".py",
   "mimetype": "text/x-python",
   "name": "python",
   "nbconvert_exporter": "python",
   "pygments_lexer": "ipython2",
   "version": "2.7.13"
  }
 },
 "nbformat": 4,
 "nbformat_minor": 2
}
