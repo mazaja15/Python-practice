{
 "cells": [
  {
   "cell_type": "code",
   "execution_count": 204,
   "metadata": {
    "collapsed": true
   },
   "outputs": [],
   "source": [
    "from bs4 import BeautifulSoup as bs"
   ]
  },
  {
   "cell_type": "code",
   "execution_count": 205,
   "metadata": {
    "collapsed": true
   },
   "outputs": [],
   "source": [
    "import urllib2  #  captures url and reads the html code\n",
    "response = urllib2.urlopen('file:///C:/Users/Student/Desktop/index.html#')\n",
    "html = response.read()"
   ]
  },
  {
   "cell_type": "code",
   "execution_count": 206,
   "metadata": {
    "collapsed": true
   },
   "outputs": [],
   "source": [
    "soup = bs(html)"
   ]
  },
  {
   "cell_type": "code",
   "execution_count": 10,
   "metadata": {},
   "outputs": [
    {
     "data": {
      "text/plain": [
       "<p>bla, bla, bla<br/>\\r\\nThis is my second line,\\r\\nthis is not my thrid line.\\r\\n</p>"
      ]
     },
     "execution_count": 10,
     "metadata": {},
     "output_type": "execute_result"
    }
   ],
   "source": [
    "soup.p # only shows 1"
   ]
  },
  {
   "cell_type": "code",
   "execution_count": 16,
   "metadata": {},
   "outputs": [
    {
     "data": {
      "text/plain": [
       "[<p>bla, bla, bla<br/>\\r\\nThis is my second line,\\r\\nthis is not my thrid line.\\r\\n</p>,\n",
       " <p>Today's news:<br/>\\r\\nclick <a href=\"http://www.bbc.co.uk/news/0\"><img src=\"./images/p01tlf61.jpg\" width=\"50px\"/></a> for BBC News\\r\\n</p>,\n",
       " <p>\\n</p>,\n",
       " <p>\\n</p>,\n",
       " <p>\\n<iframe allowfullscreen=\"\" frameborder=\"0\" height=\"315\" src=\"https://www.youtube.com/embed/7zhnIO1tTaI\" width=\"560\"></iframe>\\n</p>,\n",
       " <p>\\n<a href=\"#\">Click on this for fun</a> <!-- href='#' means stay where you are - fake/dummy link if you want to build them later-->\\n</p>]"
      ]
     },
     "execution_count": 16,
     "metadata": {},
     "output_type": "execute_result"
    }
   ],
   "source": [
    "soup.find_all('p')"
   ]
  },
  {
   "cell_type": "code",
   "execution_count": 20,
   "metadata": {},
   "outputs": [
    {
     "data": {
      "text/plain": [
       "[<a href=\"http://www.bbc.co.uk/news/0\"><img src=\"./images/p01tlf61.jpg\" width=\"50px\"/></a>,\n",
       " <a href=\"#\">Click on this for fun</a>]"
      ]
     },
     "execution_count": 20,
     "metadata": {},
     "output_type": "execute_result"
    }
   ],
   "source": [
    "soup.find_all('a')"
   ]
  },
  {
   "cell_type": "code",
   "execution_count": 13,
   "metadata": {},
   "outputs": [
    {
     "data": {
      "text/plain": [
       "<img src=\"./images/p01tlf61.jpg\" width=\"50px\"/>"
      ]
     },
     "execution_count": 13,
     "metadata": {},
     "output_type": "execute_result"
    }
   ],
   "source": [
    "soup.img"
   ]
  },
  {
   "cell_type": "code",
   "execution_count": 14,
   "metadata": {},
   "outputs": [
    {
     "data": {
      "text/plain": [
       "<h1>Monday Blues</h1>"
      ]
     },
     "execution_count": 14,
     "metadata": {},
     "output_type": "execute_result"
    }
   ],
   "source": [
    "soup.h1"
   ]
  },
  {
   "cell_type": "code",
   "execution_count": 15,
   "metadata": {},
   "outputs": [
    {
     "data": {
      "text/plain": [
       "<h3>Morning News</h3>"
      ]
     },
     "execution_count": 15,
     "metadata": {},
     "output_type": "execute_result"
    }
   ],
   "source": [
    "soup.h3"
   ]
  },
  {
   "cell_type": "code",
   "execution_count": 50,
   "metadata": {},
   "outputs": [
    {
     "name": "stdout",
     "output_type": "stream",
     "text": [
      "/\n",
      "/lloyds\n",
      "/lloyds/about-us/what-is-lloyds\n",
      "/lloyds/about-us/history\n",
      "/lloyds/about-us/strategy\n",
      "/lloyds/corporate-governance\n",
      "/lloyds/offices\n",
      "/lloyds/joining-the-market\n",
      "/lloyds/corporate-responsibility\n",
      "/lloyds/policyholder\n",
      "/news-and-insight\n",
      "/news-and-insight/news-and-features\n",
      "/news-and-insight/press-centre/press-releases\n",
      "/news-and-insight/risk-insight\n",
      "/news-and-insight/press-centre/speeches\n",
      "http://www.lloyds.com/cityriskindex\n",
      "/the-market\n",
      "/the-market/i-am-a\n",
      "/the-market/i-am-a/managing-agent\n",
      "/the-market/i-am-a/delegated-authority\n",
      "/the-market/i-am-a/lloyds-broker\n",
      "/the-market/i-am-a/open-market-correspondents\n",
      "/the-market/operating-at-lloyds/market-services\n",
      "/the-market/tools-and-resources\n",
      "/the-market/communications/events\n",
      "/the-market/communications\n",
      "/the-market/tools-and-resources/research/market-intelligence-toolkit\n",
      "/the-market/operating-at-lloyds\n",
      "/the-market/directories\n",
      "/lloyds/careers\n",
      "/lloyds/investor-relations\n",
      "/common/help\n",
      "/lloyds/key-contacts\n",
      "/Account/Login\n",
      "/lloyds/careers\n",
      "/lloyds/investor-relations\n",
      "/lloyds/offices/europe/uk\n",
      "/lloyds/offices/asia\n",
      "/lloyds/offices/africa/namibia\n",
      "/lloyds/offices/africa/south-africa\n",
      "/lloyds/offices/africa/zimbabwe\n",
      "/lloyds/offices/americas/argentina\n",
      "/lloyds/offices/americas/brasil-em-portugues\n",
      "/lloyds/offices/americas/canada-french-version\n",
      "/lloyds/offices/americas/colombia_esp\n",
      "/lloyds/offices/americas/mexico\n",
      "/lloyds/offices/americas/us-homepage\n",
      "/lloyds/offices/australasia/australia\n",
      "/lloyds/offices/asia/china\n",
      "/lloyds/offices/asia/hong-kong\n",
      "/lloyds/offices/asia/india\n",
      "/lloyds/offices/europe/israel\n",
      "/lloyds/offices/asia/japan\n",
      "/lloyds/offices/australasia/new-zealand\n",
      "/lloyds/offices/asia/singapore\n",
      "/lloyds/offices/europe/osterreich-auf-deutsch\n",
      "/lloyds/offices/europe/belgie\n",
      "/lloyds/offices/europe/cyprus\n",
      "/lloyds/offices/europe/danmark\n",
      "/lloyds/offices/europe/le-lloyds-en-france\n",
      "/lloyds/offices/europe/deutschland\n",
      "/lloyds/offices/europe/greece\n",
      "/lloyds/offices/europe/ireland\n",
      "/lloyds/offices/europe/italia\n",
      "/lloyds/offices/europe/lithuania\n",
      "/lloyds/offices/europe/malta\n",
      "/lloyds/offices/europe/nederland\n",
      "/lloyds/offices/europe/norge\n",
      "/lloyds/offices/europe/polska\n",
      "/lloyds/offices/europe/portugal-em-portugues\n",
      "/lloyds/offices/europe/espana\n",
      "/lloyds/offices/europe/sverige\n",
      "/lloyds/offices/europe/die-schweiz-auf-deutsch\n",
      "/lloyds/offices/europe/uk\n",
      "/lloyds/key-contacts\n",
      "/common/help\n",
      "/Account/Login\n",
      "/news-and-insight/news-and-features/lloyds-news/2017/05/the-cyber-threat\n",
      "/news-and-insight/news-and-features/lloyds-news/2017/05/the-cyber-threat\n",
      "/news-and-insight/news-and-features/lloyds-news/2017/05/london-matters-2017-reveals-challenges-remain\n",
      "/news-and-insight/news-and-features/lloyds-news/2017/05/london-matters-2017-reveals-challenges-remain\n",
      "/news-and-insight/news-and-features/lloyds-news/2017/04/lloyds-named-as-maritime-service-provider-of-the-year\n",
      "/news-and-insight/news-and-features/lloyds-news/2017/04/lloyds-named-as-maritime-service-provider-of-the-year\n",
      "/the-market/directories/results\n",
      "tel:+44 (0)20 7327 1000\n",
      "mailto:enquiries@lloyds.com \n",
      "https://crystal.lloyds.com/SearchResults?mc=004&c=0200407006050070500805009020110201204013040140401506026050280202906032030370204805049030500405105052060540205708061050630806505066070670607003075050770407805080070810708207084060860608705088012770127801279012800128101282012830128401285012860128701288012890129001291012920129301294012950129601298&mt=29&d=1&qr=1&t=2\n",
      "/the-market/tools-and-resources/research/market-intelligence-toolkit/market-intelligence-country-view/uk\n",
      "/lloyds/offices/europe/uk\n",
      "/the-market/communications/events/usa/bootcamp\n",
      "/the-market/communications/events/uk/airmic-conference-and-exhibition-2017\n",
      "/the-market/communications/events/uk/building-coastal-resilience-with-natural-infrastructure\n",
      "/lloyds/about-us/what-do-we-insure/what-lloyds-insures/cyber/voice-from-the-industry/2017/cyber-risk-cyber-secure\n",
      "/lloyds/about-us/what-do-we-insure/what-lloyds-insures/cyber/voice-from-the-industry/2017/cyber-risk-cyber-secure\n",
      "/lloyds/about-us/what-do-we-insure/what-lloyds-insures/cyber/voice-from-the-industry/2016/cyber-summit\n",
      "/lloyds/about-us/what-do-we-insure/what-lloyds-insures/cyber/voice-from-the-industry/2016/cyber-summit\n",
      "/~/media/files/lloyds/about-lloyds/cob/cyber/brochure/cyber_brochure.pdf\n",
      "/~/media/files/lloyds/about-lloyds/cob/cyber/brochure/cyber_brochure.pdf\n",
      "http://www.lloyds.com/laf/login.aspx\n",
      "http://www.lloyds.com/laf/login.aspx\n",
      "/the-market/tools-and-resources/tools-e-services/business-timetable\n",
      "/the-market/tools-and-resources/tools-e-services/crystal\n",
      "/the-market/tools-and-resources/research/market-intelligence-toolkit\n",
      "/the-market/tools-and-resources/tools-e-services/risk-locator\n",
      "#\n",
      "/common/cookies\n",
      "/common/privacy-and-cookies-statement\n",
      "/common/terms-and-conditions\n",
      "https://www.lloyds.com/modernslaverystatement\n",
      "https://twitter.com/LloydsofLondon\n",
      "http://www.linkedin.com/company/lloyd%27s-of-london\n",
      "https://www.facebook.com/lloyds\n",
      "http://www.youtube.com/user/Lloydsinsurance\n"
     ]
    }
   ],
   "source": [
    "links = soup.find_all('a')\n",
    "for l in links:\n",
    "    print l.get('href')\n",
    "    # follow the link:\n",
    "   # resp = urllib2.urlopen(url)\n",
    "   # followedhtml = resp.read()"
   ]
  },
  {
   "cell_type": "code",
   "execution_count": 76,
   "metadata": {},
   "outputs": [
    {
     "name": "stdout",
     "output_type": "stream",
     "text": [
      "/\n",
      "/lloyds\n",
      "/lloyds/about-us/what-is-lloyds\n",
      "/lloyds/about-us/history\n",
      "/lloyds/about-us/strategy\n",
      "/lloyds/corporate-governance\n",
      "/lloyds/offices\n",
      "/lloyds/joining-the-market\n",
      "/lloyds/corporate-responsibility\n",
      "/lloyds/policyholder\n",
      "/news-and-insight\n",
      "/news-and-insight/news-and-features\n",
      "/news-and-insight/press-centre/press-releases\n",
      "/news-and-insight/risk-insight\n",
      "/news-and-insight/press-centre/speeches\n",
      "http://www.lloyds.com/cityriskindex\n",
      "/the-market\n",
      "/the-market/i-am-a\n",
      "/the-market/i-am-a/managing-agent\n",
      "/the-market/i-am-a/delegated-authority\n",
      "/the-market/i-am-a/lloyds-broker\n",
      "/the-market/i-am-a/open-market-correspondents\n",
      "/the-market/operating-at-lloyds/market-services\n",
      "/the-market/tools-and-resources\n",
      "/the-market/communications/events\n",
      "/the-market/communications\n",
      "/the-market/tools-and-resources/research/market-intelligence-toolkit\n",
      "/the-market/operating-at-lloyds\n",
      "/the-market/directories\n",
      "/lloyds/careers\n",
      "/lloyds/investor-relations\n",
      "/common/help\n",
      "/lloyds/key-contacts\n",
      "/Account/Login\n",
      "/lloyds/careers\n",
      "/lloyds/investor-relations\n",
      "/lloyds/offices/europe/uk\n",
      "/lloyds/offices/asia\n",
      "/lloyds/offices/africa/namibia\n",
      "/lloyds/offices/africa/south-africa\n",
      "/lloyds/offices/africa/zimbabwe\n",
      "/lloyds/offices/americas/argentina\n",
      "/lloyds/offices/americas/brasil-em-portugues\n",
      "/lloyds/offices/americas/canada-french-version\n",
      "/lloyds/offices/americas/colombia_esp\n",
      "/lloyds/offices/americas/mexico\n",
      "/lloyds/offices/americas/us-homepage\n",
      "/lloyds/offices/australasia/australia\n",
      "/lloyds/offices/asia/china\n",
      "/lloyds/offices/asia/hong-kong\n",
      "/lloyds/offices/asia/india\n",
      "/lloyds/offices/europe/israel\n",
      "/lloyds/offices/asia/japan\n",
      "/lloyds/offices/australasia/new-zealand\n",
      "/lloyds/offices/asia/singapore\n",
      "/lloyds/offices/europe/osterreich-auf-deutsch\n",
      "/lloyds/offices/europe/belgie\n",
      "/lloyds/offices/europe/cyprus\n",
      "/lloyds/offices/europe/danmark\n",
      "/lloyds/offices/europe/le-lloyds-en-france\n",
      "/lloyds/offices/europe/deutschland\n",
      "/lloyds/offices/europe/greece\n",
      "/lloyds/offices/europe/ireland\n",
      "/lloyds/offices/europe/italia\n",
      "/lloyds/offices/europe/lithuania\n",
      "/lloyds/offices/europe/malta\n",
      "/lloyds/offices/europe/nederland\n",
      "/lloyds/offices/europe/norge\n",
      "/lloyds/offices/europe/polska\n",
      "/lloyds/offices/europe/portugal-em-portugues\n",
      "/lloyds/offices/europe/espana\n",
      "/lloyds/offices/europe/sverige\n",
      "/lloyds/offices/europe/die-schweiz-auf-deutsch\n",
      "/lloyds/offices/europe/uk\n",
      "/lloyds/key-contacts\n",
      "/common/help\n",
      "/Account/Login\n",
      "/news-and-insight/news-and-features/lloyds-news/2017/05/the-cyber-threat\n",
      "/news-and-insight/news-and-features/lloyds-news/2017/05/the-cyber-threat\n",
      "/news-and-insight/news-and-features/lloyds-news/2017/05/london-matters-2017-reveals-challenges-remain\n",
      "/news-and-insight/news-and-features/lloyds-news/2017/05/london-matters-2017-reveals-challenges-remain\n",
      "/news-and-insight/news-and-features/lloyds-news/2017/04/lloyds-named-as-maritime-service-provider-of-the-year\n",
      "/news-and-insight/news-and-features/lloyds-news/2017/04/lloyds-named-as-maritime-service-provider-of-the-year\n",
      "/the-market/directories/results\n",
      "tel:+44 (0)20 7327 1000\n",
      "mailto:enquiries@lloyds.com \n",
      "https://crystal.lloyds.com/SearchResults?mc=004&c=0200407006050070500805009020110201204013040140401506026050280202906032030370204805049030500405105052060540205708061050630806505066070670607003075050770407805080070810708207084060860608705088012770127801279012800128101282012830128401285012860128701288012890129001291012920129301294012950129601298&mt=29&d=1&qr=1&t=2\n",
      "/the-market/tools-and-resources/research/market-intelligence-toolkit/market-intelligence-country-view/uk\n",
      "/lloyds/offices/europe/uk\n",
      "/the-market/communications/events/usa/bootcamp\n",
      "/the-market/communications/events/uk/airmic-conference-and-exhibition-2017\n",
      "/the-market/communications/events/uk/building-coastal-resilience-with-natural-infrastructure\n",
      "/lloyds/about-us/what-do-we-insure/what-lloyds-insures/cyber/voice-from-the-industry/2017/cyber-risk-cyber-secure\n",
      "/lloyds/about-us/what-do-we-insure/what-lloyds-insures/cyber/voice-from-the-industry/2017/cyber-risk-cyber-secure\n",
      "/lloyds/about-us/what-do-we-insure/what-lloyds-insures/cyber/voice-from-the-industry/2016/cyber-summit\n",
      "/lloyds/about-us/what-do-we-insure/what-lloyds-insures/cyber/voice-from-the-industry/2016/cyber-summit\n",
      "/~/media/files/lloyds/about-lloyds/cob/cyber/brochure/cyber_brochure.pdf\n",
      "/~/media/files/lloyds/about-lloyds/cob/cyber/brochure/cyber_brochure.pdf\n",
      "http://www.lloyds.com/laf/login.aspx\n",
      "http://www.lloyds.com/laf/login.aspx\n",
      "/the-market/tools-and-resources/tools-e-services/business-timetable\n",
      "/the-market/tools-and-resources/tools-e-services/crystal\n",
      "/the-market/tools-and-resources/research/market-intelligence-toolkit\n",
      "/the-market/tools-and-resources/tools-e-services/risk-locator\n",
      "#\n",
      "/common/cookies\n",
      "/common/privacy-and-cookies-statement\n",
      "/common/terms-and-conditions\n",
      "https://www.lloyds.com/modernslaverystatement\n",
      "https://twitter.com/LloydsofLondon\n",
      "http://www.linkedin.com/company/lloyd%27s-of-london\n",
      "https://www.facebook.com/lloyds\n",
      "http://www.youtube.com/user/Lloydsinsurance\n"
     ]
    }
   ],
   "source": [
    "links = soup.find_all('a')\n",
    "for l in links:\n",
    "    print l.get('href')"
   ]
  },
  {
   "cell_type": "code",
   "execution_count": 31,
   "metadata": {},
   "outputs": [
    {
     "name": "stdout",
     "output_type": "stream",
     "text": [
      "./images/p01tlf61.jpg\n"
     ]
    }
   ],
   "source": [
    "images = soup.find_all('img')\n",
    "for i in images:\n",
    "    print i.get('src')"
   ]
  },
  {
   "cell_type": "code",
   "execution_count": 217,
   "metadata": {
    "collapsed": true
   },
   "outputs": [],
   "source": [
    "response = urllib2.urlopen('url link')\n",
    "html = response.read()"
   ]
  },
  {
   "cell_type": "code",
   "execution_count": 218,
   "metadata": {
    "collapsed": true
   },
   "outputs": [],
   "source": [
    "soup = bs(html)"
   ]
  },
  {
   "cell_type": "code",
   "execution_count": 79,
   "metadata": {},
   "outputs": [
    {
     "data": {
      "text/plain": [
       "'\\r\\n<!DOCTYPE html>\\r\\n<html>\\r\\n<head>\\r\\n    <title>Lloyd\\'s - The world\\xe2\\x80\\x99s specialist insurance market. Also known as Lloyd\\'s of London; is a market where members join together as syndicates to insure risks.</title>\\r\\n    <meta charset=\"utf-8\">\\r\\n    <meta name=\"viewport\" content=\"width=device-width, initial-scale=1\">\\r\\n    <meta http-equiv=\"X-UA-Compatible\" content=\"IE=edge\" />\\r\\n    \\r\\n    <script src=\"https://cdnjs.cloudflare.com/ajax/libs/html5shiv/3.7.3/html5shiv.min.js\"></script>\\r\\n    <script src=\"/js/modernizr.js\"></script>\\r\\n    <link rel=\"stylesheet\" type=\"text/css\" href=\"/css/global.css\" />\\r\\n    <link rel=\"shortcut icon\" type=\"image/x-icon\" href=\"/images/favicon.ico\" />\\r\\n\\r\\n    <!--[if lte IE 9]>\\r\\n        <link rel=\"stylesheet\" type=\"text/css\" href=\"/css/ie9.css\" />\\r\\n    <![endif]-->\\r\\n    <!--[if lt IE 9]>\\r\\n        <link rel=\"stylesheet\" type=\"text/css\" href=\"/css/ie8.css\" />\\r\\n    <![endif]-->\\r\\n    \\r\\n    <script type=\"text/javascript\" charset=\"utf-8\" data-requirecontext=\"_\" src=\"/js/require.js\"></script>\\r\\n    <script type=\"text/javascript\" charset=\"utf-8\" data-requirecontext=\"_\" src=\"/js/main.js\"></script>    \\r\\n    <script>\\r\\n            //loads the IFrame Player API code asynchronously.\\r\\n            var tag = document.createElement(\\'script\\');\\r\\n\\r\\n            tag.src = \"https://www.youtube.com/iframe_api\";\\r\\n            var firstScriptTag = document.getElementsByTagName(\\'script\\')[0];\\r\\n            firstScriptTag.parentNode.insertBefore(tag, firstScriptTag);\\r\\n    </script>\\r\\n    <meta name=\"docDate\" content=\"2008/04/07\"/>\\r\\n<meta name=\"Description\" content=\"Lloyd\\'s is the world\\'s leading insurance market providing specialist insurance services to businesses in over 200 countries and territories.\" />\\r\\n</head>\\r\\n<body id=\"body\">\\r\\n<main class=\"main\">\\r\\n    <script>\\r\\nwindow.dataLayer = window.dataLayer || [];\\r\\ndataLayer.push({\\r\\n    \\'loggedin\\': \\'true\\',\\r\\n    \\'event\\': \\'loggedInStatusSet\\'\\r\\n});\\r\\n</script>\\r\\n<!-- Google Tag Manager -->\\r\\n<noscript>\\r\\n    <iframe src=\"//www.googletagmanager.com/ns.html?id=GTM-MSQL48\"\\r\\n            height=\"0\" width=\"0\" style=\"display:none;visibility:hidden\"></iframe>\\r\\n</noscript>\\r\\n<script>\\r\\n(function (w, d, s, l, i) {\\r\\nw[l] = w[l] || []; w[l].push({\\r\\n    \\'gtm.start\\':\\r\\n        new Date().getTime(), event: \\'gtm.js\\'\\r\\n}); var f = d.getElementsByTagName(s)[0],\\r\\n    j = d.createElement(s), dl = l != \\'dataLayer\\' ? \\'&l=\\' + l : \\'\\'; j.async = true; j.src =\\r\\n    \\'//www.googletagmanager.com/gtm.js?id=\\' + i + dl; f.parentNode.insertBefore(j, f);\\r\\n})(window, document, \\'script\\', \\'dataLayer\\', \\'GTM-MSQL48\\');\\r\\n</script>\\r\\n    <header class=\"header\">\\r\\n    <div class=\"container\">\\r\\n        <div class=\"header--logo\"><a class=\"nolink header--logo--image ir\" href=\"/\">LLoyd\\'s homepage</a></div>\\r\\n        <nav class=\"navigation_main\">\\r\\n            <div class=\"navigation_main--top font-size--remove\">\\r\\n                <button class=\"header--search--button mobile-only js-search-open\"><span class=\"icon search\"></span>Open search</button>\\r\\n                <button class=\"navigation--button mobile-only js-menu-open\"><span class=\"icon menu\"></span>Open navigation</button>\\r\\n\\r\\n                <div class=\"navigation--level level\">\\r\\n\\r\\n        <div class=\"navigation--item item  font-size--add\">\\r\\n                <a href=\"/lloyds\" class=\"hidelink js-open \">About Us</a>\\r\\n                <span class=\"icon--container js-level-open\"><i class=\"icon plus\"></i></span>\\r\\n                <div class=\"navigation--level--level level js-dropdown\">\\r\\n                    <div class=\"navigation--title\">About Us</div>\\r\\n                            <div class=\"column left\">\\r\\n                                    <div class=\"navigation--item--item item js-active-hover\">\\r\\n                                        <a href=\"/lloyds/about-us/what-is-lloyds\" class=\"hidelink\">What is Lloyd&#39;s?</a>\\r\\n                                    </div>\\r\\n                                    <div class=\"navigation--item--item item js-active-hover\">\\r\\n                                        <a href=\"/lloyds/about-us/history\" class=\"hidelink\">Our history</a>\\r\\n                                    </div>\\r\\n                                    <div class=\"navigation--item--item item js-active-hover\">\\r\\n                                        <a href=\"/lloyds/about-us/strategy\" class=\"hidelink\">Strategy</a>\\r\\n                                    </div>\\r\\n                                    <div class=\"navigation--item--item item js-active-hover\">\\r\\n                                        <a href=\"/lloyds/corporate-governance\" class=\"hidelink\">Corporate Governance</a>\\r\\n                                    </div>\\r\\n                                    <div class=\"navigation--item--item item js-active-hover\">\\r\\n                                        <a href=\"/lloyds/offices\" class=\"hidelink\">Global offices</a>\\r\\n                                    </div>\\r\\n                                    <div class=\"navigation--item--item item js-active-hover\">\\r\\n                                        <a href=\"/lloyds/joining-the-market\" class=\"hidelink\">Joining the market</a>\\r\\n                                    </div>\\r\\n                                    <div class=\"navigation--item--item item js-active-hover\">\\r\\n                                        <a href=\"/lloyds/corporate-responsibility\" class=\"hidelink\">Corporate Social Responsibility</a>\\r\\n                                    </div>\\r\\n                                    <div class=\"navigation--item--item item js-active-hover\">\\r\\n                                        <a href=\"/lloyds/policyholder\" class=\"hidelink\">Policyholders</a>\\r\\n                                    </div>\\r\\n                            </div>\\r\\n                </div>\\r\\n\\r\\n        </div>\\r\\n        <div class=\"navigation--item item  font-size--add\">\\r\\n                <a href=\"/news-and-insight\" class=\"hidelink js-open \">News &amp; Insight</a>\\r\\n                <span class=\"icon--container js-level-open\"><i class=\"icon plus\"></i></span>\\r\\n                <div class=\"navigation--level--level level js-dropdown\">\\r\\n                    <div class=\"navigation--title\">News &amp; Insight</div>\\r\\n                            <div class=\"column left\">\\r\\n                                    <div class=\"navigation--item--item item js-active-hover\">\\r\\n                                        <a href=\"/news-and-insight/news-and-features\" class=\"hidelink\">News and Features</a>\\r\\n                                    </div>\\r\\n                                    <div class=\"navigation--item--item item js-active-hover\">\\r\\n                                        <a href=\"/news-and-insight/press-centre/press-releases\" class=\"hidelink\">Press releases</a>\\r\\n                                    </div>\\r\\n                                    <div class=\"navigation--item--item item js-active-hover\">\\r\\n                                        <a href=\"/news-and-insight/risk-insight\" class=\"hidelink\">Risk Insight</a>\\r\\n                                    </div>\\r\\n                                    <div class=\"navigation--item--item item js-active-hover\">\\r\\n                                        <a href=\"/news-and-insight/press-centre/speeches\" class=\"hidelink\">Speeches</a>\\r\\n                                    </div>\\r\\n                                    <div class=\"navigation--item--item item js-active-hover\">\\r\\n                                        <a href=\"http://www.lloyds.com/cityriskindex\" class=\"hidelink\">City Risk Index</a>\\r\\n                                    </div>\\r\\n                            </div>\\r\\n                </div>\\r\\n\\r\\n        </div>\\r\\n        <div class=\"navigation--item item two-columns font-size--add\">\\r\\n                <a href=\"/the-market\" class=\"hidelink js-open \">For the market</a>\\r\\n                <span class=\"icon--container js-level-open\"><i class=\"icon plus\"></i></span>\\r\\n                <div class=\"navigation--level--level level js-dropdown\">\\r\\n                    <div class=\"navigation--title\">For the market</div>\\r\\n                            <div class=\"column left\">\\r\\n                                    <div class=\"navigation--item--item item js-active-hover\">\\r\\n                                        <a href=\"/the-market/i-am-a\" class=\"hidelink\">I am a ...</a>\\r\\n                                    </div>\\r\\n                                    <div class=\"navigation--item--item item js-active-hover\">\\r\\n                                        <a href=\"/the-market/i-am-a/managing-agent\" class=\"hidelink\">Syndicate</a>\\r\\n                                    </div>\\r\\n                                    <div class=\"navigation--item--item item js-active-hover\">\\r\\n                                        <a href=\"/the-market/i-am-a/delegated-authority\" class=\"hidelink\">Delegated Authority</a>\\r\\n                                    </div>\\r\\n                                    <div class=\"navigation--item--item item js-active-hover\">\\r\\n                                        <a href=\"/the-market/i-am-a/lloyds-broker\" class=\"hidelink\">Lloyd&#39;s Broker</a>\\r\\n                                    </div>\\r\\n                                    <div class=\"navigation--item--item item js-active-hover\">\\r\\n                                        <a href=\"/the-market/i-am-a/open-market-correspondents\" class=\"hidelink\">Open Market Correspondent</a>\\r\\n                                    </div>\\r\\n                                    <div class=\"navigation--item--item item js-active-hover\">\\r\\n                                        <a href=\"/the-market/operating-at-lloyds/market-services\" class=\"hidelink\">Member</a>\\r\\n                                    </div>\\r\\n                            </div>\\r\\n                            <div class=\"column right\">\\r\\n                                    <div class=\"navigation--item--item item js-active-hover\">\\r\\n                                        <a href=\"/the-market/tools-and-resources\" class=\"hidelink\">Tools and resources</a>\\r\\n                                    </div>\\r\\n                                    <div class=\"navigation--item--item item js-active-hover\">\\r\\n                                        <a href=\"/the-market/communications/events\" class=\"hidelink\">Market Events</a>\\r\\n                                    </div>\\r\\n                                    <div class=\"navigation--item--item item js-active-hover\">\\r\\n                                        <a href=\"/the-market/communications\" class=\"hidelink\">Market Communications</a>\\r\\n                                    </div>\\r\\n                                    <div class=\"navigation--item--item item js-active-hover\">\\r\\n                                        <a href=\"/the-market/tools-and-resources/research/market-intelligence-toolkit\" class=\"hidelink\">Market Intelligence</a>\\r\\n                                    </div>\\r\\n                                    <div class=\"navigation--item--item item js-active-hover\">\\r\\n                                        <a href=\"/the-market/operating-at-lloyds\" class=\"hidelink\">Operating at Lloyd&#39;s</a>\\r\\n                                    </div>\\r\\n                                    <div class=\"navigation--item--item item js-active-hover\">\\r\\n                                        <a href=\"/the-market/directories\" class=\"hidelink\">Market Directory</a>\\r\\n                                    </div>\\r\\n                            </div>\\r\\n                </div>\\r\\n\\r\\n        </div>\\r\\n        <div class=\"mobile-only navigation--other  font-size--add\">\\r\\n                        <div class=\"navigation--item item\">\\r\\n                            <a href=\"/lloyds/careers\" class=\"hidelink\">Careers</a>\\r\\n                        </div>\\r\\n                        <div class=\"navigation--item item\">\\r\\n                            <a href=\"/lloyds/investor-relations\" class=\"hidelink\">Investor Relations</a>\\r\\n                        </div>\\r\\n                        <div class=\"navigation--item item\">\\r\\n                            <a href=\"/common/help\" class=\"hidelink\">Help</a>\\r\\n                        </div>\\r\\n                        <div class=\"navigation--item item\">\\r\\n                            <a href=\"/lloyds/key-contacts\" class=\"hidelink\">Contacts</a>\\r\\n                        </div>\\r\\n<div class=\"navigation--item item\">\\r\\n    <a href=\"/Account/Login\" class=\"hidelink\">Login/Register</a>\\r\\n</div>\\r\\n\\r\\n        </div>\\r\\n</div>\\r\\n\\r\\n                <div class=\"header--links links--top font-size--remove\">\\r\\n            <span class=\"font-size--add links--container\">\\r\\n                <a class=\"hidelink\" href=\"/lloyds/careers\">Careers</a>\\r\\n            </span>\\r\\n            <span class=\"font-size--add links--container\">\\r\\n                <a class=\"hidelink\" href=\"/lloyds/investor-relations\">Investor Relations</a>\\r\\n            </span>\\r\\n</div> \\r\\n                    <div class=\"header--search font-size--add\">\\r\\n    <form method=\"Get\" action=\"/Search\">\\r\\n        <input type=\"search\" value=\"\" placeholder=\"Search\" name=\"q\" id=\"q\">\\r\\n        <input type=\"submit\" value=\"Search\">\\r\\n    </form>\\r\\n</div>\\r\\n\\r\\n                </div>\\r\\n\\r\\n                <div class=\"navigation_main--bottom font-size--remove\">\\r\\n\\r\\n                    <div class=\"header--links links--bottom font-size--remove\">\\r\\n                                    <div class=\"header--country-select font-size--add\">\\r\\n            <a href=\"/lloyds/offices/europe/uk\" class=\"flag\">\\r\\n                <img src=\"/~/media/lloyds/icons/countryflags/no-shadow/unitedkingdom.png\" alt=\"Country Page\" ></a>\\r\\n        </div>\\r\\n\\r\\n\\r\\n<div class=\"header--country-select font-size--add\">\\r\\n    <div class=\"header--country-select--switch\">\\r\\n        <div class=\"header--country-select--switch--button\">\\r\\n            <span class=\"header--country-select--button-wrapper\">\\r\\n                <span class=\"header--country-select--button js-open\">Worldwide</span>\\r\\n            </span>\\r\\n                <span class=\"header--country-select--selected\">UK</span>\\r\\n        </div>\\r\\n        <div class=\"header--country-select--dropdown js-dropdown\">\\r\\n            <div class=\"header--country-select--title-container\">\\r\\n                <div class=\"header--country-select--title\">Worldwide</div>\\r\\n            </div>\\r\\n            <div class=\"header--country-select-container\">\\r\\n                <div class=\"title\">Choose a region</div>\\r\\n                        <div class=\"header--country-select--continent js-active-hover\">\\r\\n                            <span class=\"header--country-select--continent--link item\">Africa &amp; Middle-East</span>\\r\\n                            <div class=\"header--country-select--countries\">\\r\\n                                <div class=\"title\">Choose a country</div>\\r\\n                                <div class=\"header--country-select--country-container\">\\r\\n                                    <ul>\\r\\n                                            <li class=\"header--country-select--country item\">\\r\\n                                                <a class=\"hidelink\" href=\"/lloyds/offices/asia\">Dubai</a>\\r\\n                                            </li>\\r\\n                                            <li class=\"header--country-select--country item\">\\r\\n                                                <a class=\"hidelink\" href=\"/lloyds/offices/africa/namibia\">Namibia</a>\\r\\n                                            </li>\\r\\n                                            <li class=\"header--country-select--country item\">\\r\\n                                                <a class=\"hidelink\" href=\"/lloyds/offices/africa/south-africa\">South Africa</a>\\r\\n                                            </li>\\r\\n                                            <li class=\"header--country-select--country item\">\\r\\n                                                <a class=\"hidelink\" href=\"/lloyds/offices/africa/zimbabwe\">Zimbabwe</a>\\r\\n                                            </li>\\r\\n                                    </ul>\\r\\n                                </div>\\r\\n                            </div>\\r\\n                        </div>\\r\\n                        <div class=\"header--country-select--continent js-active-hover\">\\r\\n                            <span class=\"header--country-select--continent--link item\">Americas</span>\\r\\n                            <div class=\"header--country-select--countries\">\\r\\n                                <div class=\"title\">Choose a country</div>\\r\\n                                <div class=\"header--country-select--country-container\">\\r\\n                                    <ul>\\r\\n                                            <li class=\"header--country-select--country item\">\\r\\n                                                <a class=\"hidelink\" href=\"/lloyds/offices/americas/argentina\">Argentina</a>\\r\\n                                            </li>\\r\\n                                            <li class=\"header--country-select--country item\">\\r\\n                                                <a class=\"hidelink\" href=\"/lloyds/offices/americas/brasil-em-portugues\">Brazil</a>\\r\\n                                            </li>\\r\\n                                            <li class=\"header--country-select--country item\">\\r\\n                                                <a class=\"hidelink\" href=\"/lloyds/offices/americas/canada-french-version\">Canada</a>\\r\\n                                            </li>\\r\\n                                            <li class=\"header--country-select--country item\">\\r\\n                                                <a class=\"hidelink\" href=\"/lloyds/offices/americas/colombia_esp\">Colombia</a>\\r\\n                                            </li>\\r\\n                                            <li class=\"header--country-select--country item\">\\r\\n                                                <a class=\"hidelink\" href=\"/lloyds/offices/americas/mexico\">Mexico</a>\\r\\n                                            </li>\\r\\n                                            <li class=\"header--country-select--country item\">\\r\\n                                                <a class=\"hidelink\" href=\"/lloyds/offices/americas/us-homepage\">United States of America</a>\\r\\n                                            </li>\\r\\n                                    </ul>\\r\\n                                </div>\\r\\n                            </div>\\r\\n                        </div>\\r\\n                        <div class=\"header--country-select--continent js-active-hover\">\\r\\n                            <span class=\"header--country-select--continent--link item\">Asia &amp; Pacific</span>\\r\\n                            <div class=\"header--country-select--countries\">\\r\\n                                <div class=\"title\">Choose a country</div>\\r\\n                                <div class=\"header--country-select--country-container\">\\r\\n                                    <ul>\\r\\n                                            <li class=\"header--country-select--country item\">\\r\\n                                                <a class=\"hidelink\" href=\"/lloyds/offices/australasia/australia\">Australia</a>\\r\\n                                            </li>\\r\\n                                            <li class=\"header--country-select--country item\">\\r\\n                                                <a class=\"hidelink\" href=\"/lloyds/offices/asia/china\">China</a>\\r\\n                                            </li>\\r\\n                                            <li class=\"header--country-select--country item\">\\r\\n                                                <a class=\"hidelink\" href=\"/lloyds/offices/asia/hong-kong\">Hong Kong</a>\\r\\n                                            </li>\\r\\n                                            <li class=\"header--country-select--country item\">\\r\\n                                                <a class=\"hidelink\" href=\"/lloyds/offices/asia/india\">India</a>\\r\\n                                            </li>\\r\\n                                            <li class=\"header--country-select--country item\">\\r\\n                                                <a class=\"hidelink\" href=\"/lloyds/offices/europe/israel\">Israel</a>\\r\\n                                            </li>\\r\\n                                            <li class=\"header--country-select--country item\">\\r\\n                                                <a class=\"hidelink\" href=\"/lloyds/offices/asia/japan\">Japan</a>\\r\\n                                            </li>\\r\\n                                            <li class=\"header--country-select--country item\">\\r\\n                                                <a class=\"hidelink\" href=\"/lloyds/offices/australasia/new-zealand\">New Zealand</a>\\r\\n                                            </li>\\r\\n                                            <li class=\"header--country-select--country item\">\\r\\n                                                <a class=\"hidelink\" href=\"/lloyds/offices/asia/singapore\">Singapore</a>\\r\\n                                            </li>\\r\\n                                    </ul>\\r\\n                                </div>\\r\\n                            </div>\\r\\n                        </div>\\r\\n                        <div class=\"header--country-select--continent js-active-hover\">\\r\\n                            <span class=\"header--country-select--continent--link item\">Europe</span>\\r\\n                            <div class=\"header--country-select--countries\">\\r\\n                                <div class=\"title\">Choose a country</div>\\r\\n                                <div class=\"header--country-select--country-container\">\\r\\n                                    <ul>\\r\\n                                            <li class=\"header--country-select--country item\">\\r\\n                                                <a class=\"hidelink\" href=\"/lloyds/offices/europe/osterreich-auf-deutsch\">Austria</a>\\r\\n                                            </li>\\r\\n                                            <li class=\"header--country-select--country item\">\\r\\n                                                <a class=\"hidelink\" href=\"/lloyds/offices/europe/belgie\">Belgium</a>\\r\\n                                            </li>\\r\\n                                            <li class=\"header--country-select--country item\">\\r\\n                                                <a class=\"hidelink\" href=\"/lloyds/offices/europe/cyprus\">Cyprus</a>\\r\\n                                            </li>\\r\\n                                            <li class=\"header--country-select--country item\">\\r\\n                                                <a class=\"hidelink\" href=\"/lloyds/offices/europe/danmark\">Denmark</a>\\r\\n                                            </li>\\r\\n                                            <li class=\"header--country-select--country item\">\\r\\n                                                <a class=\"hidelink\" href=\"/lloyds/offices/europe/le-lloyds-en-france\">France</a>\\r\\n                                            </li>\\r\\n                                            <li class=\"header--country-select--country item\">\\r\\n                                                <a class=\"hidelink\" href=\"/lloyds/offices/europe/deutschland\">Germany</a>\\r\\n                                            </li>\\r\\n                                            <li class=\"header--country-select--country item\">\\r\\n                                                <a class=\"hidelink\" href=\"/lloyds/offices/europe/greece\">Greece</a>\\r\\n                                            </li>\\r\\n                                            <li class=\"header--country-select--country item\">\\r\\n                                                <a class=\"hidelink\" href=\"/lloyds/offices/europe/ireland\">Ireland</a>\\r\\n                                            </li>\\r\\n                                            <li class=\"header--country-select--country item\">\\r\\n                                                <a class=\"hidelink\" href=\"/lloyds/offices/europe/italia\">Italy</a>\\r\\n                                            </li>\\r\\n                                            <li class=\"header--country-select--country item\">\\r\\n                                                <a class=\"hidelink\" href=\"/lloyds/offices/europe/lithuania\">Lithuania</a>\\r\\n                                            </li>\\r\\n                                            <li class=\"header--country-select--country item\">\\r\\n                                                <a class=\"hidelink\" href=\"/lloyds/offices/europe/malta\">Malta</a>\\r\\n                                            </li>\\r\\n                                            <li class=\"header--country-select--country item\">\\r\\n                                                <a class=\"hidelink\" href=\"/lloyds/offices/europe/nederland\">Netherlands</a>\\r\\n                                            </li>\\r\\n                                            <li class=\"header--country-select--country item\">\\r\\n                                                <a class=\"hidelink\" href=\"/lloyds/offices/europe/norge\">Norway</a>\\r\\n                                            </li>\\r\\n                                            <li class=\"header--country-select--country item\">\\r\\n                                                <a class=\"hidelink\" href=\"/lloyds/offices/europe/polska\">Poland</a>\\r\\n                                            </li>\\r\\n                                            <li class=\"header--country-select--country item\">\\r\\n                                                <a class=\"hidelink\" href=\"/lloyds/offices/europe/portugal-em-portugues\">Portugal</a>\\r\\n                                            </li>\\r\\n                                            <li class=\"header--country-select--country item\">\\r\\n                                                <a class=\"hidelink\" href=\"/lloyds/offices/europe/espana\">Spain</a>\\r\\n                                            </li>\\r\\n                                            <li class=\"header--country-select--country item\">\\r\\n                                                <a class=\"hidelink\" href=\"/lloyds/offices/europe/sverige\">Sweden</a>\\r\\n                                            </li>\\r\\n                                            <li class=\"header--country-select--country item\">\\r\\n                                                <a class=\"hidelink\" href=\"/lloyds/offices/europe/die-schweiz-auf-deutsch\">Switzerland</a>\\r\\n                                            </li>\\r\\n                                            <li class=\"header--country-select--country item\">\\r\\n                                                <a class=\"hidelink\" href=\"/lloyds/offices/europe/uk\">United Kingdom</a>\\r\\n                                            </li>\\r\\n                                    </ul>\\r\\n                                </div>\\r\\n                            </div>\\r\\n                        </div>\\r\\n                        <div class=\"header--country-select--continent js-active-hover\">\\r\\n                            <span class=\"header--country-select--continent--link item\"></span>\\r\\n                            <div class=\"header--country-select--countries\">\\r\\n                                <div class=\"title\">Choose a country</div>\\r\\n                                <div class=\"header--country-select--country-container\">\\r\\n                                    <ul>\\r\\n                                    </ul>\\r\\n                                </div>\\r\\n                            </div>\\r\\n                        </div>\\r\\n\\r\\n            </div>\\r\\n        </div>\\r\\n    </div>\\r\\n</div>\\r\\n                        <span class=\"font-size--add links--container\">\\r\\n            <a class=\"hidelink\" href=\"/lloyds/key-contacts\">Contacts</a>\\r\\n            <a class=\"hidelink\" href=\"/common/help\">Help</a>\\r\\n        <a class=\"hidelink\" href=\"/Account/Login\">Login/Register</a>\\r\\n</span>\\r\\n\\r\\n                    </div>\\r\\n                </div>\\r\\n            </nav>\\r\\n        </div>\\r\\n    </header> \\r\\n    <div class=\"wrapper\">\\r\\n        <div class=\"mask menu-mask\"></div>\\r\\n        \\r\\n            <section class=\"hero module black\">\\r\\n        <div class=\"carousel\"\\r\\n             data-autoplay=\"true\"\\r\\n             data-dots=\"true\"\\r\\n             data-infinite=\"true\"\\r\\n             data-colour-match=\"true\">\\n\\n\\n                    <div class=\"hero--slide slide\" style=\"background: url(\\'/~/media/images/responsive-site-images/carousel/worldspecialistinsurance.jpg\\') no-repeat center center; background-size: cover\">\\r\\n                            <div class=\"carousel-mask\">\\r\\n                            </div>\\r\\n                        <div class=\"container\">\\r\\n                            <div class=\"hero--slide--titles-container\">\\r\\n                                    <h1 class=\"hero--slide--title title\">The world\\'s specialist insurance market</h1>\\r\\n                                                                                                    <h2 class=\"hero--slide--subtitle subtitle\"><p>A market where our syndicates join together to insure essential, complex and critical risks</p></h2>\\r\\n                                                            </div>\\r\\n                        </div>\\r\\n                    </div>\\r\\n                    <div class=\"hero--slide slide\" style=\"background: url(\\'/~/media/images/responsive-site-images/carousel/providingsecurity.jpg\\') no-repeat center center; background-size: cover\">\\r\\n                            <div class=\"carousel-mask\">\\r\\n                            </div>\\r\\n                        <div class=\"container\">\\r\\n                            <div class=\"hero--slide--titles-container\">\\r\\n                                    <h1 class=\"hero--slide--title title\">Providing security through our unique market</h1>\\r\\n                                                                                                    <h2 class=\"hero--slide--subtitle subtitle\"><p>Our unmatched expertise and financial strength enables us to offer robust protection wherever needed</p></h2>\\r\\n                                                            </div>\\r\\n                        </div>\\r\\n                    </div>\\r\\n        </div>\\n    </section>\\n\\n\\n    <section class=\"module three-column-summary black three-column-summary_bordered\">\\n        <div class=\"container\">\\n\\n\\n\\n                <div class=\"wrap\">\\n                        <div class=\"three-column-summary--item\">\\n                                    <a class=\"hidelink articlelink\" href=\"/news-and-insight/news-and-features/lloyds-news/2017/05/the-cyber-threat\">\\r\\n                                        \\n    <h2 class=\"three-column-summary--item--title\">The cyber threat: managing the risk step by step </h2>\\n\\n    <p class=\"three-column-summary--item--desc\">Key outcomes from our Cyber Seminar in Copenhagen in the wake of the WannaCry ransomware attack. </p>\\n\\n\\n\\r\\n                                    </a>\\r\\n                                <div class=\"three-column-summary--item--readmore readmore\">\\n                                        <a href=\"/news-and-insight/news-and-features/lloyds-news/2017/05/the-cyber-threat\">Read more</a>\\r\\n                                </div>\\r\\n                            </div>\\n                        <div class=\"three-column-summary--item\">\\n                                    <a class=\"hidelink articlelink\" href=\"/news-and-insight/news-and-features/lloyds-news/2017/05/london-matters-2017-reveals-challenges-remain\">\\r\\n                                        \\n    <h2 class=\"three-column-summary--item--title\">London Matters 2017</h2>\\n\\n    <p class=\"three-column-summary--item--desc\">The LMG has published research in an update to its 2014 London Matters report.</p>\\n\\n\\n\\r\\n                                    </a>\\r\\n                                <div class=\"three-column-summary--item--readmore readmore\">\\n                                        <a href=\"/news-and-insight/news-and-features/lloyds-news/2017/05/london-matters-2017-reveals-challenges-remain\">Read more</a>\\r\\n                                </div>\\r\\n                            </div>\\n                        <div class=\"three-column-summary--item\">\\n                                    <a class=\"hidelink articlelink\" href=\"/news-and-insight/news-and-features/lloyds-news/2017/04/lloyds-named-as-maritime-service-provider-of-the-year\">\\r\\n                                        \\n    <h2 class=\"three-column-summary--item--title\">Lloyd\\'s named as Maritime Service Provider of the year</h2>\\n\\n    <p class=\"three-column-summary--item--desc\">We\\'re delighted to have been awarded the Maritime Service Provider of the year at the Singapore International Maritime Awards.</p>\\n\\n\\n\\r\\n                                    </a>\\r\\n                                <div class=\"three-column-summary--item--readmore readmore\">\\n                                        <a href=\"/news-and-insight/news-and-features/lloyds-news/2017/04/lloyds-named-as-maritime-service-provider-of-the-year\">Read more</a>\\r\\n                                </div>\\r\\n                            </div>\\n                </div>\\n\\n        </div>\\n    </section>\\n    <section class=\"module three-column-summary white \">\\n        <div class=\"container\">\\n\\n\\n                <article class=\"heading\">\\n                        <h4>About Lloyd\\'s</h4>\\n                                            <h2>The world\\'s specialist insurance market</h2>\\n                </article>\\n\\n                <div class=\"wrap\">\\n                        <div class=\"three-column-summary--item\">\\n\\n    <h2 class=\"three-column-summary--item--title\">Global</h2>\\n\\n    <p class=\"three-column-summary--item--desc\">Lloyd\\xe2\\x80\\x99s is an international market, combining global insight with local knowledge</p>\\n\\n\\n                            </div>\\n                        <div class=\"three-column-summary--item\">\\n\\n    <h2 class=\"three-column-summary--item--title\">Stable</h2>\\n\\n    <p class=\"three-column-summary--item--desc\">Lloyd\\xe2\\x80\\x99s robust financial model ensures the stability of the market and security for customers</p>\\n\\n\\n                            </div>\\n                        <div class=\"three-column-summary--item\">\\n\\n    <h2 class=\"three-column-summary--item--title\">Innovative</h2>\\n\\n    <p class=\"three-column-summary--item--desc\">At the forefront of understanding and protecting against emerging risk</p>\\n\\n\\n                            </div>\\n                </div>\\n\\n        </div>\\n    </section>\\n<section class=\"find-a-broker module js-find-a-broker blue\" data-url=\"/marketdirectoriesjson/getclassesofbusiness\">\\r\\n    <div class=\"container\">\\r\\n        <article class=\"heading\">\\r\\n            <h4>Market Directory</h4>\\r\\n            <h2 class=\"section-title find-a-broker--title title\">\\r\\n                <a class=\"nolink\" href=\"/the-market/directories/results\">Find a broker, syndicate or coverholder</a>\\r\\n            </h2>\\r\\n        </article>\\r\\n        <form action=\"/the-market/directories/results\" method=\"GET\">\\r\\n            <fieldset class=\"find-a-broker--form font-size--remove\">\\r\\n                <div class=\"selectWrapper select-0 font-size--add\">\\r\\n                    <select name=\"cobc\" id=\"MarketDirectories-BusinessCategory\" class=\"js-classofbusinessfilter\">\\r\\n                        <option test=\"\" selected=\"selected\">Select class of business</option>\\r\\n                            <option value=\"1\">Accident &amp; Health</option>\\r\\n                            <option value=\"2\">Aviation</option>\\r\\n                            <option value=\"5\">Energy</option>\\r\\n                            <option value=\"6\">Marine</option>\\r\\n                            <option value=\"8\">Property (D&amp;F)</option>\\r\\n                            <option value=\"9\">Property Treaty</option>\\r\\n                            <option value=\"4\">Casualty Treaty</option>\\r\\n                            <option value=\"11\">FinPro Casualty</option>\\r\\n                            <option value=\"12\">Other Casualty</option>\\r\\n                            <option value=\"13\">Other Specialty</option>\\r\\n                    </select>\\r\\n                </div>\\r\\n                <div class=\"selectWrapper select-1 font-size--add\">\\r\\n                    <select name=\"cob\" id=\"MarketDirectories-BusinessSubclass\" class=\"js-subclassofbusiness\">\\r\\n                        <option test=\"\" selected=\"selected\">Select sub-class of business</option>\\r\\n                            <option value=\"1\">Accident &amp; Health (direct)</option>\\r\\n                            <option value=\"3\">Medical Expenses</option>\\r\\n                            <option value=\"4\">Personal Accident XL</option>\\r\\n                            <option value=\"5\">Term Life</option>\\r\\n                            <option value=\"66\">Contingency</option>\\r\\n                            <option value=\"67\">Pecuniary</option>\\r\\n                            <option value=\"6\">Airline</option>\\r\\n                            <option value=\"7\">Airline/ General Aviation</option>\\r\\n                            <option value=\"8\">Aviation Products/ Airport Liabilities</option>\\r\\n                            <option value=\"9\">Aviation XL</option>\\r\\n                            <option value=\"10\">General Aviation</option>\\r\\n                            <option value=\"11\">Space</option>\\r\\n                            <option value=\"62\">Aviation War</option>\\r\\n                            <option value=\"29\">Energy Offshore Liability</option>\\r\\n                            <option value=\"30\">Energy Offshore Property</option>\\r\\n                            <option value=\"31\">Energy Onshore Liability</option>\\r\\n                            <option value=\"32\">Energy Onshore Property</option>\\r\\n                            <option value=\"70\">Energy Construction</option>\\r\\n                            <option value=\"76\">Nuclear</option>\\r\\n                            <option value=\"77\">Power Generation</option>\\r\\n                            <option value=\"33\">Cargo</option>\\r\\n                            <option value=\"35\">Marine Hull</option>\\r\\n                            <option value=\"36\">Marine Liability</option>\\r\\n                            <option value=\"37\">Marine XL</option>\\r\\n                            <option value=\"40\">Yacht</option>\\r\\n                            <option value=\"71\">Fine Art</option>\\r\\n                            <option value=\"72\">Marine War</option>\\r\\n                            <option value=\"73\">Specie</option>\\r\\n                            <option value=\"42\">Difference in Conditions</option>\\r\\n                            <option value=\"50\">Property (direct &amp; facultative)</option>\\r\\n                            <option value=\"51\">Property D&amp;F (non-US binder)</option>\\r\\n                            <option value=\"52\">Property D&amp;F (non-US open market)</option>\\r\\n                            <option value=\"53\">Property D&amp;F (US binder)</option>\\r\\n                            <option value=\"54\">Property D&amp;F (US open market)</option>\\r\\n                            <option value=\"56\">Agriculture &amp; Hail</option>\\r\\n                            <option value=\"58\">Property pro rata</option>\\r\\n                            <option value=\"59\">Property Risk XS</option>\\r\\n                            <option value=\"74\">Property Cat XL (non-US)</option>\\r\\n                            <option value=\"75\">Property Cat XL (US)</option>\\r\\n                            <option value=\"64\">Employers Liability/ WCA (US)</option>\\r\\n                            <option value=\"65\">Motor XL</option>\\r\\n                            <option value=\"68\">Casualty Treaty (non-US)</option>\\r\\n                            <option value=\"69\">Casualty Treaty (US)</option>\\r\\n                            <option value=\"78\">BBB/ Crime</option>\\r\\n                            <option value=\"79\">Cyber</option>\\r\\n                            <option value=\"80\">Directors &amp; Officers</option>\\r\\n                            <option value=\"81\">Directors &amp; Officers (non-US)</option>\\r\\n                            <option value=\"82\">Directors &amp; Officers (US)</option>\\r\\n                            <option value=\"83\">Financial Institutions (non-US)</option>\\r\\n                            <option value=\"84\">Financial Institutions (US)</option>\\r\\n                            <option value=\"85\">Professional Indemnity</option>\\r\\n                            <option value=\"86\">Professional Indemnity (non-US)</option>\\r\\n                            <option value=\"87\">Professional Indemnity (US)</option>\\r\\n                            <option value=\"88\">Employers Liability</option>\\r\\n                            <option value=\"89\">Employers Liability/ WCA (non-US)</option>\\r\\n                            <option value=\"90\">Medical Malpractice</option>\\r\\n                            <option value=\"91\">NM General Liability (non-US direct)</option>\\r\\n                            <option value=\"92\">NM General Liability (US direct)</option>\\r\\n                            <option value=\"93\">Overseas Motor</option>\\r\\n                            <option value=\"94\">RITC</option>\\r\\n                            <option value=\"95\">UK Motor</option>\\r\\n                            <option value=\"96\">Engineering</option>\\r\\n                            <option value=\"97\">Extended Warranty</option>\\r\\n                            <option value=\"98\">Legal Expenses</option>\\r\\n                            <option value=\"99\">Livestock &amp; Bloodstock</option>\\r\\n                            <option value=\"100\">Lloyd&#39;s Japan</option>\\r\\n                            <option value=\"101\">Political Risks, Credit &amp; Financial Guarantee</option>\\r\\n                            <option value=\"102\">Terrorism</option>\\r\\n                    </select>\\r\\n                </div>\\r\\n                <div class=\"field-item cp-inlineButtons cc font-size--add\">\\r\\n                    <label for=\"MarketDirectories-SearchTextBox\" id=\"MarketDirectories-SearchBox-Label\" class=\"accessibility-item\"></label>\\r\\n                    <input name=\"name\" type=\"text\" id=\"MarketDirectories-SearchTextBox\" class=\"js-input-default-submit\" data-default-button-id=\"content_0_homecontentfullwidth_0_SearchButton\" placeholder=\"Enter name or number\">\\r\\n                    <button id=\"MarketDirectories-SearchButton\" class=\"button font-size--add\">Search</button>\\r\\n                </div>\\r\\n            </fieldset>\\r\\n        </form>\\r\\n        <p class=\"section-subtitle find-a-broker--desc\">This directory contains an alphabetical listing of the organisations that operate within the Lloyd\\xe2\\x80\\x99s market. It provides information by the classes of business they can insure and their contact details.</p>\\r\\n    </div>\\r\\n</section><section class=\"howcan-form module\">\\r\\n    <div class=\"container\">\\r\\n        <article class=\"heading\">\\r\\n            <h4>How can we help?</h4>\\r\\n        </article>\\r\\n        <div class=\"multistep\">\\r\\n            <div class=\"form slide\">\\r\\n                <div class=\"form--section\" data-step=\"0\">\\r\\n        <h2 class=\"form--section--title title\">Use this tool to help you find what you need on lloyds.com</h2>\\r\\n            <div class=\"form--section--desc\">Please select an option below</div>\\r\\n            <fieldset class=\"fields-container\">\\r\\n                    <div class=\"field\">\\r\\n                        <input type=\"radio\" name=\"radiofield0\" value=\"b72ab7f8-ae1b-4102-9944-e5a94734c08a\" data-target=\"/decisiontree/contenthandler?itemId=b72ab7f8-ae1b-4102-9944-e5a94734c08a\" id=\"field-one-b72ab7f8-ae1b-4102-9944-e5a94734c08a\">\\r\\n                        <label for=\"field-one-b72ab7f8-ae1b-4102-9944-e5a94734c08a\">I want to place insurance at Lloyd&#39;s</label>\\r\\n                    </div>\\r\\n                    <div class=\"field\">\\r\\n                        <input type=\"radio\" name=\"radiofield0\" value=\"5e834e36-0295-4d51-99b0-54c678aaaa72\" data-target=\"/decisiontree/contenthandler?itemId=5e834e36-0295-4d51-99b0-54c678aaaa72\" id=\"field-one-5e834e36-0295-4d51-99b0-54c678aaaa72\">\\r\\n                        <label for=\"field-one-5e834e36-0295-4d51-99b0-54c678aaaa72\">How do I get access to Lloyd&#39;s secure tools and resources</label>\\r\\n                    </div>\\r\\n                    <div class=\"field\">\\r\\n                        <input type=\"radio\" name=\"radiofield0\" value=\"b3c1f265-8ea5-4c27-85fe-93284eff5ed4\" data-target=\"/decisiontree/contenthandler?itemId=b3c1f265-8ea5-4c27-85fe-93284eff5ed4\" id=\"field-one-b3c1f265-8ea5-4c27-85fe-93284eff5ed4\">\\r\\n                        <label for=\"field-one-b3c1f265-8ea5-4c27-85fe-93284eff5ed4\">How do I make a complaint?</label>\\r\\n                    </div>\\r\\n                    <div class=\"field\">\\r\\n                        <input type=\"radio\" name=\"radiofield0\" value=\"efbd00b9-4471-45ce-a76c-bea45df86d68\" data-target=\"/decisiontree/contenthandler?itemId=efbd00b9-4471-45ce-a76c-bea45df86d68\" id=\"field-one-efbd00b9-4471-45ce-a76c-bea45df86d68\">\\r\\n                        <label for=\"field-one-efbd00b9-4471-45ce-a76c-bea45df86d68\">Where is Lloyd&#39;s licensed to underwrite business?</label>\\r\\n                    </div>\\r\\n                    <div class=\"field\">\\r\\n                        <input type=\"radio\" name=\"radiofield0\" value=\"62a2154e-f107-4a22-9fbb-d31a1067631e\" data-target=\"/decisiontree/contenthandler?itemId=62a2154e-f107-4a22-9fbb-d31a1067631e\" id=\"field-one-62a2154e-f107-4a22-9fbb-d31a1067631e\">\\r\\n                        <label for=\"field-one-62a2154e-f107-4a22-9fbb-d31a1067631e\">How do I verify my Lloyd&#39;s insurance or check my policy number?</label>\\r\\n                    </div>\\r\\n                    <div class=\"field\">\\r\\n                        <input type=\"radio\" name=\"radiofield0\" value=\"b6e39462-47a8-4fa2-b5d5-cfc35d6a1748\" data-target=\"/decisiontree/contenthandler?itemId=b6e39462-47a8-4fa2-b5d5-cfc35d6a1748\" id=\"field-one-b6e39462-47a8-4fa2-b5d5-cfc35d6a1748\">\\r\\n                        <label for=\"field-one-b6e39462-47a8-4fa2-b5d5-cfc35d6a1748\">I want to contact....</label>\\r\\n                    </div>\\r\\n            </fieldset>\\r\\n        <div class=\"form--section--arrows\">\\r\\n            <button class=\"button next disabled\" type=\"button\">Next</button>\\r\\n        </div>\\r\\n\\r\\n</div>\\r\\n            </div>\\r\\n        </div>\\r\\n    </div>\\r\\n</section>    <section class=\"location-events module location-alone\">\\r\\n        <div class=\"container\">\\r\\n            <div class=\"location--container\">\\r\\n                <article class=\"heading\">\\r\\n                    <h4>Lloyd&#39;s in the UK</h4>\\r\\n                </article>\\r\\n                <address class=\"location--address\">\\r\\n                    <ul>\\r\\n                        <li class=\"address\">\\r\\n                            <h2>One Lime Street, London EC3M 7HA </h2>\\r\\n                        </li>\\r\\n                            <li class=\"tel\">\\r\\n                                <a class=\"hidelink readmore\" href=\"tel:+44 (0)20 7327 1000\">+44 (0)20 7327 1000</a>\\r\\n                            </li>\\r\\n                                                    <li class=\"email\">\\r\\n                                <a class=\"hidelink readmore\" href=\"mailto:enquiries@lloyds.com \">enquiries@lloyds.com </a>\\r\\n                            </li>\\r\\n                                                    <li>\\r\\n                                <a class=\"hidelink readmore\" href=\"https://crystal.lloyds.com/SearchResults?mc=004&amp;c=0200407006050070500805009020110201204013040140401506026050280202906032030370204805049030500405105052060540205708061050630806505066070670607003075050770407805080070810708207084060860608705088012770127801279012800128101282012830128401285012860128701288012890129001291012920129301294012950129601298&amp;mt=29&amp;d=1&amp;qr=1&amp;t=2\">Tax and regulatory information</a>\\r\\n                            </li>\\r\\n                                                    <li>\\r\\n                                <a class=\"hidelink readmore\" href=\"/the-market/tools-and-resources/research/market-intelligence-toolkit/market-intelligence-country-view/uk\">Market Intelligence</a>\\r\\n                            </li>\\r\\n                                                    <li>\\r\\n                                <a class=\"hidelink readmore\" href=\"/lloyds/offices/europe/uk\">More on Lloyd&#39;s in the UK</a>\\r\\n                            </li>\\r\\n                    </ul>\\r\\n                </address>\\r\\n            </div>\\r\\n        </div>\\r\\n    </section>\\r\\n    <section class=\"module three-column-summary black three-column-summary_bordered location-events\">\\r\\n        <div class=\"container\">\\r\\n            <article class=\"heading\">\\r\\n                                    <h2>Events at Lloyd\\'s</h2>\\r\\n            </article>\\r\\n                <div class=\"wrap\">\\r\\n                        <div class=\"three-column-summary--item\">\\r\\n    <h2 class=\"three-column-summary--item--title\">AIRMIC Conference and Exhibition 2017, Birmingham</h2>\\r\\n\\r\\n    <span class=\"three-column-summary--item--date\">12 Jun 2017</span>\\r\\n\\r\\n\\r\\n                                <div class=\"three-column-summary--item--readmore readmore\">\\r\\n                                    <a href=\"/the-market/communications/events/uk/airmic-conference-and-exhibition-2017\">Read more</a>\\r\\n                                </div>\\r\\n                        </div>\\r\\n                        <div class=\"three-column-summary--item\">\\r\\n    <h2 class=\"three-column-summary--item--title\">Building Coastal Resilience with Natural Infrastructure</h2>\\r\\n\\r\\n    <span class=\"three-column-summary--item--date\">12 Jun 2017</span>\\r\\n\\r\\n\\r\\n                                <div class=\"three-column-summary--item--readmore readmore\">\\r\\n                                    <a href=\"/the-market/communications/events/uk/building-coastal-resilience-with-natural-infrastructure\">Read more</a>\\r\\n                                </div>\\r\\n                        </div>\\r\\n                        <div class=\"three-column-summary--item\">\\r\\n    <h2 class=\"three-column-summary--item--title\">Outside-In event: #RegTech Repurposing Data as a Mission Critical Enabler for business</h2>\\r\\n\\r\\n    <span class=\"three-column-summary--item--date\">11 Jul 2017</span>\\r\\n\\r\\n\\r\\n                                <div class=\"three-column-summary--item--readmore readmore\">\\r\\n                                    <a href=\"/the-market/communications/events/uk/outside-in-event-july-2017\">Read more</a>\\r\\n                                </div>\\r\\n                        </div>\\r\\n                </div>\\r\\n        </div>\\r\\n    </section>\\r\\n    <section class=\"module grey\">\\r\\n\\r\\n\\r\\n        <div class=\"container\">\\r\\n                <div class=\"carousel\">\\r\\n                        <div class=\"slide\">\\r\\n                                <section class=\"module three-column-summary grey \">\\n        <div class=\"container\">\\n\\n\\n                <article class=\"heading\">\\n                        <h4>Latest themes</h4>\\n                                            <h2>Cyber</h2>\\n                </article>\\n\\n                <div class=\"wrap\">\\n                        <div class=\"three-column-summary--item\">\\n                                    <a class=\"hidelink articlelink\" href=\"/lloyds/about-us/what-do-we-insure/what-lloyds-insures/cyber/voice-from-the-industry/2017/cyber-risk-cyber-secure\">\\r\\n                                            <figure class=\"three-column-summary--item--image\">\\n        <img src=\\'/~/media/files/lloyds/about-lloyds/cob/cyber/video/cyber_video_still.png?h=360&amp;w=640&amp;la=en&amp;hash=555D9D7E8DF4260376530F5615CA0B7FC4C6A1D6\\' alt=\\'Cyber Risk. Cyber Secure.\\' />\\n    </figure>\\n\\n    <h2 class=\"three-column-summary--item--title\">Cyber Risk. Cyber Secure</h2>\\n\\n    <p class=\"three-column-summary--item--desc\">The Lloyd\\xe2\\x80\\x99s market offers cyber coverage that brings a wide range of benefits to you and your business. Find out how we can help you.</p>\\n\\n\\n\\r\\n                                    </a>\\r\\n                                <div class=\"three-column-summary--item--readmore readmore\">\\n                                        <a href=\"/lloyds/about-us/what-do-we-insure/what-lloyds-insures/cyber/voice-from-the-industry/2017/cyber-risk-cyber-secure\">Watch the video</a>\\r\\n                                </div>\\r\\n                            </div>\\n                        <div class=\"three-column-summary--item\">\\n                                    <a class=\"hidelink articlelink\" href=\"/lloyds/about-us/what-do-we-insure/what-lloyds-insures/cyber/voice-from-the-industry/2016/cyber-summit\">\\r\\n                                            <figure class=\"three-column-summary--item--image\">\\n        <img src=\\'/~/media/files/lloyds/about-lloyds/cob/cyber/cybersummit.jpg?h=360&amp;w=640&amp;la=en&amp;hash=ADDBCE28E2CEF1EFE23E21D604B9014076D9E763\\' alt=\\'Lloyd\\'s cyber summit\\' />\\n    </figure>\\n\\n    <h2 class=\"three-column-summary--item--title\">Why businesses should be looking at cyber insurance</h2>\\n\\n    <p class=\"three-column-summary--item--desc\">Watch industry experts address how the cyber threat can impact businesses, and how insurance can help.</p>\\n\\n\\n\\r\\n                                    </a>\\r\\n                                <div class=\"three-column-summary--item--readmore readmore\">\\n                                        <a href=\"/lloyds/about-us/what-do-we-insure/what-lloyds-insures/cyber/voice-from-the-industry/2016/cyber-summit\">Read more</a>\\r\\n                                </div>\\r\\n                            </div>\\n                        <div class=\"three-column-summary--item\">\\n                                <a class=\"hidelink\" href=\"/~/media/files/lloyds/about-lloyds/cob/cyber/brochure/cyber_brochure.pdf\">\\r\\n                                        <figure class=\"three-column-summary--item--image\">\\n        <img src=\\'/~/media/files/lloyds/about-lloyds/cob/cyber/why-buy-cyber.jpg?h=173&amp;w=308&amp;la=en&amp;hash=F37A7D51DFC4D158646DE0E8533DB8DC73B363D4\\' alt=\\'Why buy cyber insurance\\' />\\n    </figure>\\n\\n    <h2 class=\"three-column-summary--item--title\">Cyber risk, cyber secure</h2>\\n\\n    <p class=\"three-column-summary--item--desc\">Cyber insurance at Lloyd\\xe2\\x80\\x99s is the best possible way to protect your business and respond to the growing challenges</p>\\n\\n\\n\\r\\n                                </a>\\r\\n                                <a href=\"/~/media/files/lloyds/about-lloyds/cob/cyber/brochure/cyber_brochure.pdf\" class=\"three-column-summary--item--pdf\">Read more (514.6 KB, pdf)</a>\\r\\n                            </div>\\n                </div>\\n\\n        </div>\\n    </section>\\n\\r\\n                        </div>\\r\\n                </div>\\r\\n        </div>\\r\\n    </section>\\r\\n<section class=\"tools module white\">\\r\\n    <div class=\"container\">\\r\\n\\r\\n        <article class=\"heading\">\\r\\n                <h4>Lloyd\\'s tools</h4>\\r\\n                            <h2>A comprehensive collection of tools, resources and reference material for the Lloyd\\xe2\\x80\\x99s market</h2>\\r\\n        </article>\\r\\n\\r\\n            <div class=\"tools--cta\">\\r\\n                <p>Please <a href=\"http://www.lloyds.com/laf/login.aspx\">sign in </a>access your tools, or&nbsp;<a href=\"http://www.lloyds.com/laf/login.aspx\">register</a> for a Lloyd\\'s account to apply for access.</p>\\r\\n            </div>\\r\\n\\r\\n            <div class=\"tools--item-container\">\\r\\n                    <article class=\"tools--item\">\\r\\n                        <a class=\"hidelink readmore\" href=\"/the-market/tools-and-resources/tools-e-services/business-timetable\">\\r\\n                            Business Timetable\\r\\n                        </a>\\r\\n                    </article>\\r\\n                    <article class=\"tools--item\">\\r\\n                        <a class=\"hidelink readmore\" href=\"/the-market/tools-and-resources/tools-e-services/crystal\">\\r\\n                            Crystal\\r\\n                        </a>\\r\\n                    </article>\\r\\n                    <article class=\"tools--item\">\\r\\n                        <a class=\"hidelink readmore\" href=\"/the-market/tools-and-resources/research/market-intelligence-toolkit\">\\r\\n                            Market Intelligence\\r\\n                        </a>\\r\\n                    </article>\\r\\n                    <article class=\"tools--item\">\\r\\n                        <a class=\"hidelink readmore\" href=\"/the-market/tools-and-resources/tools-e-services/risk-locator\">\\r\\n                            Risk Locator Tool\\r\\n                        </a>\\r\\n                    </article>\\r\\n            </div>\\r\\n    </div>\\r\\n</section>\\r\\n        \\r\\n\\r\\n    </div>\\r\\n        <div class=\"headerDrop js-cookieComply\">\\r\\n        <div class=\"headerDrop-intro\">\\r\\n            <div class=\"headerDrop-intro-inner headerDrop-intro-start\">\\r\\n                <h2>\\r\\n                    Cookies\\r\\n                </h2>\\r\\n                <a href=\"#\" class=\"button-right button-big js-cookieSet\"><span><strong>Continue</strong></span></a>\\r\\n                    <p class=\"headerDrop-intro-text\">\\r\\n                        Our cookies are there to make it easier for you to use our website. They allow us to recognise our registered users, count visitor numbers and find out how they navigate the site; helping us make changes so you can find what you\\xe2\\x80\\x99re looking for faster.\\r\\n                        <a class=\"headerDrop-intro-more\" href=\"/common/cookies\">Find out more</a>\\r\\n                    </p>\\r\\n            </div>\\r\\n        </div>\\r\\n    </div>\\r\\n\\r\\n\\r\\n    <footer class=\"footer module grey\">\\r\\n\\r\\n    <div class=\"footer--copy-text module  black\">\\r\\n        <div class=\"container\">\\r\\n            <div class=\"footer--row\">\\r\\n                <ul class=\"footer--row--links\">\\r\\n                        <li class=\"footer--row--links--item \">\\r\\n                            <a class=\"hidelink\" href=\"/common/privacy-and-cookies-statement\">Privacy &amp; Cookies</a>\\r\\n                        </li>\\r\\n                        <li class=\"footer--row--links--item \">\\r\\n                            <a class=\"hidelink\" href=\"/common/terms-and-conditions\">Terms &amp; Conditions</a>\\r\\n                        </li>\\r\\n                        <li class=\"footer--row--links--item \">\\r\\n                            <a class=\"hidelink\" href=\"https://www.lloyds.com/modernslaverystatement\">Modern Slavery Act</a>\\r\\n                        </li>\\r\\n                </ul>\\r\\n\\r\\n            </div>\\r\\n        </div>\\r\\n    </div>\\r\\n    <div class=\"footer--social-wrap module  black\">\\r\\n        <div class=\"container\">\\r\\n            <!--googleoff: index-->\\r\\n            <div class=\"footer--row\">\\r\\n                <ul class=\"footer--row--social\">\\r\\n                        <li class=\"footer--row--social--item twitter\">\\r\\n                            <a href=\"https://twitter.com/LloydsofLondon\" class=\"hidelink\">\\r\\n                                <div class=\"icon twitter\"></div>\\r\\n                            </a>\\r\\n                        </li>\\r\\n                        <li class=\"footer--row--social--item linkedin\">\\r\\n                            <a href=\"http://www.linkedin.com/company/lloyd%27s-of-london\" class=\"hidelink\">\\r\\n                                <div class=\"icon linkedin\"></div>\\r\\n                            </a>\\r\\n                        </li>\\r\\n                        <li class=\"footer--row--social--item facebook\">\\r\\n                            <a href=\"https://www.facebook.com/lloyds\" class=\"hidelink\">\\r\\n                                <div class=\"icon facebook\"></div>\\r\\n                            </a>\\r\\n                        </li>\\r\\n                        <li class=\"footer--row--social--item youtube\">\\r\\n                            <a href=\"http://www.youtube.com/user/Lloydsinsurance\" class=\"hidelink\">\\r\\n                                <div class=\"icon youtube\"></div>\\r\\n                            </a>\\r\\n                        </li>\\r\\n                </ul>\\r\\n\\r\\n                <div class=\"copyright\">\\r\\n                    <p>Lloyd\\'s Copyright 2017</p>\\r\\n                    <p>Lloyd\\'s is a registered trademark of the Society of Lloyd\\'s. Lloyd\\'s is authorised under the Financial Services and Markets Act 2000. </p>\\r\\n                </div>\\r\\n            </div>\\r\\n            <!--googleon: index-->\\r\\n        </div>\\r\\n    </div>\\r\\n</footer>\\r\\n</main>\\r\\n\\r\\n</body>\\r\\n<!-- Server: Prod - CD 2 -->\\r\\n</html><script id=\"f5_cspm\">(function(){var f5_cspm={f5_p:\\'IFBKGBIIMNCBANIJBNLMACIFEPMGNMLKONGCDDIMEDIMHLJCJEDOOHMBCBKLPIBIEKMBLDOLAAHGOPPMGMFAONKPAACNPNHLCOJCIMEOLFKCBDIGCNBCMPPDHDPHMBHB\\',setCharAt:function(str,index,chr){if(index>str.length-1)return str;return str.substr(0,index)+chr+str.substr(index+1);},get_byte:function(str,i){var s=(i/16)|0;i=(i&15);s=s*32;return((str.charCodeAt(i+16+s)-65)<<4)|(str.charCodeAt(i+s)-65);},set_byte:function(str,i,b){var s=(i/16)|0;i=(i&15);s=s*32;str=f5_cspm.setCharAt(str,(i+16+s),String.fromCharCode((b>>4)+65));str=f5_cspm.setCharAt(str,(i+s),String.fromCharCode((b&15)+65));return str;},set_latency:function(str,latency){latency=latency&0xffff;str=f5_cspm.set_byte(str,40,(latency>>8));str=f5_cspm.set_byte(str,41,(latency&0xff));str=f5_cspm.set_byte(str,35,2);return str;},wait_perf_data:function(){try{var wp=window.performance.timing;if(wp.loadEventEnd>0){var res=wp.loadEventEnd-wp.navigationStart;if(res<60001){var cookie_val=f5_cspm.set_latency(f5_cspm.f5_p,res);window.document.cookie=\\'f5avr0013419198aaaaaaaaaaaaaaaa=\\'+encodeURIComponent(cookie_val)+\\';path=/\\';}\\nreturn;}}\\ncatch(err){return;}\\nsetTimeout(f5_cspm.wait_perf_data,100);return;},go:function(){var chunk=window.document.cookie.split(/\\\\s*;\\\\s*/);for(var i=0;i<chunk.length;++i){var pair=chunk[i].split(/\\\\s*=\\\\s*/);if(pair[0]==\\'f5_cspm\\'&&pair[1]==\\'1234\\')\\n{var d=new Date();d.setTime(d.getTime()-1000);window.document.cookie=\\'f5_cspm=;expires=\\'+d.toUTCString()+\\';path=/;\\';setTimeout(f5_cspm.wait_perf_data,100);}}}}\\nf5_cspm.go();}());</script>'"
      ]
     },
     "execution_count": 79,
     "metadata": {},
     "output_type": "execute_result"
    }
   ],
   "source": [
    "html"
   ]
  },
  {
   "cell_type": "code",
   "execution_count": 95,
   "metadata": {
    "collapsed": true
   },
   "outputs": [],
   "source": [
    "import csv"
   ]
  },
  {
   "cell_type": "code",
   "execution_count": 129,
   "metadata": {},
   "outputs": [
    {
     "name": "stdout",
     "output_type": "stream",
     "text": [
      "/\n",
      "/lloyds\n",
      "/lloyds/about-us/what-is-lloyds\n",
      "/lloyds/about-us/history\n",
      "/lloyds/about-us/strategy\n",
      "/lloyds/corporate-governance\n",
      "/lloyds/offices\n",
      "/lloyds/joining-the-market\n",
      "/lloyds/corporate-responsibility\n",
      "/lloyds/policyholder\n",
      "/news-and-insight\n",
      "/news-and-insight/news-and-features\n",
      "/news-and-insight/press-centre/press-releases\n",
      "/news-and-insight/risk-insight\n",
      "/news-and-insight/press-centre/speeches\n",
      "http://www.lloyds.com/cityriskindex\n",
      "/the-market\n",
      "/the-market/i-am-a\n",
      "/the-market/i-am-a/managing-agent\n",
      "/the-market/i-am-a/delegated-authority\n",
      "/the-market/i-am-a/lloyds-broker\n",
      "/the-market/i-am-a/open-market-correspondents\n",
      "/the-market/operating-at-lloyds/market-services\n",
      "/the-market/tools-and-resources\n",
      "/the-market/communications/events\n",
      "/the-market/communications\n",
      "/the-market/tools-and-resources/research/market-intelligence-toolkit\n",
      "/the-market/operating-at-lloyds\n",
      "/the-market/directories\n",
      "/lloyds/careers\n",
      "/lloyds/investor-relations\n",
      "/common/help\n",
      "/lloyds/key-contacts\n",
      "/Account/Login\n",
      "/lloyds/careers\n",
      "/lloyds/investor-relations\n",
      "/lloyds/offices/europe/uk\n",
      "/lloyds/offices/asia\n",
      "/lloyds/offices/africa/namibia\n",
      "/lloyds/offices/africa/south-africa\n",
      "/lloyds/offices/africa/zimbabwe\n",
      "/lloyds/offices/americas/argentina\n",
      "/lloyds/offices/americas/brasil-em-portugues\n",
      "/lloyds/offices/americas/canada-french-version\n",
      "/lloyds/offices/americas/colombia_esp\n",
      "/lloyds/offices/americas/mexico\n",
      "/lloyds/offices/americas/us-homepage\n",
      "/lloyds/offices/australasia/australia\n",
      "/lloyds/offices/asia/china\n",
      "/lloyds/offices/asia/hong-kong\n",
      "/lloyds/offices/asia/india\n",
      "/lloyds/offices/europe/israel\n",
      "/lloyds/offices/asia/japan\n",
      "/lloyds/offices/australasia/new-zealand\n",
      "/lloyds/offices/asia/singapore\n",
      "/lloyds/offices/europe/osterreich-auf-deutsch\n",
      "/lloyds/offices/europe/belgie\n",
      "/lloyds/offices/europe/cyprus\n",
      "/lloyds/offices/europe/danmark\n",
      "/lloyds/offices/europe/le-lloyds-en-france\n",
      "/lloyds/offices/europe/deutschland\n",
      "/lloyds/offices/europe/greece\n",
      "/lloyds/offices/europe/ireland\n",
      "/lloyds/offices/europe/italia\n",
      "/lloyds/offices/europe/lithuania\n",
      "/lloyds/offices/europe/malta\n",
      "/lloyds/offices/europe/nederland\n",
      "/lloyds/offices/europe/norge\n",
      "/lloyds/offices/europe/polska\n",
      "/lloyds/offices/europe/portugal-em-portugues\n",
      "/lloyds/offices/europe/espana\n",
      "/lloyds/offices/europe/sverige\n",
      "/lloyds/offices/europe/die-schweiz-auf-deutsch\n",
      "/lloyds/offices/europe/uk\n",
      "/lloyds/key-contacts\n",
      "/common/help\n",
      "/Account/Login\n",
      "/news-and-insight/news-and-features/lloyds-news/2017/05/the-cyber-threat\n",
      "/news-and-insight/news-and-features/lloyds-news/2017/05/the-cyber-threat\n",
      "/news-and-insight/news-and-features/lloyds-news/2017/05/london-matters-2017-reveals-challenges-remain\n",
      "/news-and-insight/news-and-features/lloyds-news/2017/05/london-matters-2017-reveals-challenges-remain\n",
      "/news-and-insight/news-and-features/lloyds-news/2017/04/lloyds-named-as-maritime-service-provider-of-the-year\n",
      "/news-and-insight/news-and-features/lloyds-news/2017/04/lloyds-named-as-maritime-service-provider-of-the-year\n",
      "/the-market/directories/results\n",
      "tel:+44 (0)20 7327 1000\n",
      "mailto:enquiries@lloyds.com \n",
      "https://crystal.lloyds.com/SearchResults?mc=004&c=0200407006050070500805009020110201204013040140401506026050280202906032030370204805049030500405105052060540205708061050630806505066070670607003075050770407805080070810708207084060860608705088012770127801279012800128101282012830128401285012860128701288012890129001291012920129301294012950129601298&mt=29&d=1&qr=1&t=2\n",
      "/the-market/tools-and-resources/research/market-intelligence-toolkit/market-intelligence-country-view/uk\n",
      "/lloyds/offices/europe/uk\n",
      "/the-market/communications/events/uk/airmic-conference-and-exhibition-2017\n",
      "/the-market/communications/events/uk/building-coastal-resilience-with-natural-infrastructure\n",
      "/the-market/communications/events/uk/outside-in-event-july-2017\n",
      "/lloyds/about-us/what-do-we-insure/what-lloyds-insures/cyber/voice-from-the-industry/2017/cyber-risk-cyber-secure\n",
      "/lloyds/about-us/what-do-we-insure/what-lloyds-insures/cyber/voice-from-the-industry/2017/cyber-risk-cyber-secure\n",
      "/lloyds/about-us/what-do-we-insure/what-lloyds-insures/cyber/voice-from-the-industry/2016/cyber-summit\n",
      "/lloyds/about-us/what-do-we-insure/what-lloyds-insures/cyber/voice-from-the-industry/2016/cyber-summit\n",
      "/~/media/files/lloyds/about-lloyds/cob/cyber/brochure/cyber_brochure.pdf\n",
      "/~/media/files/lloyds/about-lloyds/cob/cyber/brochure/cyber_brochure.pdf\n",
      "http://www.lloyds.com/laf/login.aspx\n",
      "http://www.lloyds.com/laf/login.aspx\n",
      "/the-market/tools-and-resources/tools-e-services/business-timetable\n",
      "/the-market/tools-and-resources/tools-e-services/crystal\n",
      "/the-market/tools-and-resources/research/market-intelligence-toolkit\n",
      "/the-market/tools-and-resources/tools-e-services/risk-locator\n",
      "#\n",
      "/common/cookies\n",
      "/common/privacy-and-cookies-statement\n",
      "/common/terms-and-conditions\n",
      "https://www.lloyds.com/modernslaverystatement\n",
      "https://twitter.com/LloydsofLondon\n",
      "http://www.linkedin.com/company/lloyd%27s-of-london\n",
      "https://www.facebook.com/lloyds\n",
      "http://www.youtube.com/user/Lloydsinsurance\n"
     ]
    }
   ],
   "source": [
    "for l in links:\n",
    "    l = str(l.get('href'))\n",
    "    print l"
   ]
  },
  {
   "cell_type": "code",
   "execution_count": 212,
   "metadata": {},
   "outputs": [
    {
     "ename": "IndentationError",
     "evalue": "unexpected indent (<ipython-input-212-e27fea60e176>, line 10)",
     "output_type": "error",
     "traceback": [
      "\u001b[0;36m  File \u001b[0;32m\"<ipython-input-212-e27fea60e176>\"\u001b[0;36m, line \u001b[0;32m10\u001b[0m\n\u001b[0;31m    list1.append(GetLinks(x))\u001b[0m\n\u001b[0m    ^\u001b[0m\n\u001b[0;31mIndentationError\u001b[0m\u001b[0;31m:\u001b[0m unexpected indent\n"
     ]
    }
   ],
   "source": [
    "def GetLinks(initialPage, level):\n",
    "    level += 1\n",
    "    html = urllib2.urlopen(initialPage).read()\n",
    "    soup =BeautifulSoup(html)\n",
    "    tags = soup('a')\n",
    "    list1=list()\n",
    "for tag in tags:\n",
    "    x = tag.get('href', None)\n",
    "        list1.append(x)\n",
    "            list1.append(GetLinks(x))\n",
    "    return list1"
   ]
  },
  {
   "cell_type": "code",
   "execution_count": 216,
   "metadata": {
    "collapsed": true,
    "scrolled": false
   },
   "outputs": [],
   "source": [
    "links = soup.find_all('a')\n",
    "\n",
    "for l in links:\n",
    "    l= str(l.get('href'))\n",
    "    if (len(l)>3) & (l[-3:] == 'pdf'):\n",
    "        fields=[l, l, l[-3:]]\n",
    "        with open(r'C:\\Users\\Student\\Desktop\\lloyds.csv', 'ab') as f:\n",
    "            writer = csv.writer(f, delimiter=',');\n",
    "            writer.writerow(fields)\n",
    "                         "
   ]
  },
  {
   "cell_type": "code",
   "execution_count": 219,
   "metadata": {
    "collapsed": true
   },
   "outputs": [],
   "source": [
    "links = soup.find_all('a')\n",
    "\n",
    "for l in links:\n",
    "    l= str(l.get('href'))\n",
    "    if (len(l)>3) & (l[-3:] == 'pdf'):\n",
    "        fields=[l, l, l[-3:]]\n",
    "        with open(r'C:\\Users\\Student\\Desktop\\lloyds.csv', 'ab') as f:\n",
    "            writer = csv.writer(f, delimiter=',');\n",
    "            writer.writerow(fields)\n",
    "                         "
   ]
  },
  {
   "cell_type": "code",
   "execution_count": 220,
   "metadata": {
    "collapsed": true
   },
   "outputs": [],
   "source": [
    "a = 100\n",
    "b =a"
   ]
  },
  {
   "cell_type": "code",
   "execution_count": 221,
   "metadata": {
    "collapsed": true
   },
   "outputs": [],
   "source": [
    "a=200"
   ]
  },
  {
   "cell_type": "code",
   "execution_count": 222,
   "metadata": {},
   "outputs": [
    {
     "data": {
      "text/plain": [
       "100"
      ]
     },
     "execution_count": 222,
     "metadata": {},
     "output_type": "execute_result"
    }
   ],
   "source": [
    "b"
   ]
  },
  {
   "cell_type": "code",
   "execution_count": null,
   "metadata": {
    "collapsed": true
   },
   "outputs": [],
   "source": []
  }
 ],
 "metadata": {
  "kernelspec": {
   "display_name": "Python 2",
   "language": "python",
   "name": "python2"
  },
  "language_info": {
   "codemirror_mode": {
    "name": "ipython",
    "version": 2
   },
   "file_extension": ".py",
   "mimetype": "text/x-python",
   "name": "python",
   "nbconvert_exporter": "python",
   "pygments_lexer": "ipython2",
   "version": "2.7.13"
  }
 },
 "nbformat": 4,
 "nbformat_minor": 2
}
