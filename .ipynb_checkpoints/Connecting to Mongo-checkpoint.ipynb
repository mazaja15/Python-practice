{
 "cells": [
  {
   "cell_type": "code",
   "execution_count": 1,
   "metadata": {
    "collapsed": true
   },
   "outputs": [],
   "source": [
    "import pymongo\n",
    "from pprint import pprint\n",
    "import pandas as pd\n",
    "from pymongo import MongoClient\n",
    "from pandas import DataFrame, TimeSeries\n",
    "\n",
    "import numpy as np\n",
    "import plotly.plotly as py\n",
    "import plotly.graph_objs as go\n",
    "import plotly\n",
    "import cufflinks as cf\n",
    "import json\n",
    "from pandas.io.json import json_normalize\n",
    "%matplotlib inline\n",
    "def connect_to_mongo():\n",
    "    try:\n",
    "        client = MongoClient()\n",
    "        print 'Connection to Mongo successful'\n",
    "    except pymongo.errors.ConnectionFailure as e:\n",
    "        print e\n",
    "        return\n",
    "\n",
    "    return client\n",
    "\n",
    "def connect_to_collection(db_string, coll_string):\n",
    "    try:\n",
    "\n",
    "        client = connect_to_mongo()\n",
    "        db = client[db_string]\n",
    "        collection = db[coll_string]\n",
    "        print 'Connection to collection successful'\n",
    "    except pymongo.errors.ConnectionFailure as e:\n",
    "        print e\n",
    "        return\n",
    "    return collection\n",
    "\n",
    "\n",
    "def tweets_into_DataFrame(Collection):\n",
    "\n",
    "    query = {'Polarity':1,'text':1,'Subjectivity':1,'created_at':1}\n",
    "\n",
    "\n",
    "    data = json_normalize(list(Collection.find(filter = {}, projection = query)))\n",
    "#data = DataFrame(list(Collection.find()))\n",
    "    return data\n"
   ]
  },
  {
   "cell_type": "code",
   "execution_count": 2,
   "metadata": {},
   "outputs": [
    {
     "name": "stdout",
     "output_type": "stream",
     "text": [
      "Connection to Mongo successful\n",
      "Connection to collection successful\n"
     ]
    }
   ],
   "source": [
    "col = connect_to_collection('twitter_db','twitter_collection_national')\n",
    "\n",
    "data = tweets_into_DataFrame(col) # ALL DATA\n",
    "\n",
    "data['created_at'] = pd.to_datetime(data['created_at'])\n"
   ]
  },
  {
   "cell_type": "code",
   "execution_count": null,
   "metadata": {
    "collapsed": true
   },
   "outputs": [],
   "source": [
    "Data.set_index(['created_at'], inplace = True)"
   ]
  },
  {
   "cell_type": "code",
   "execution_count": null,
   "metadata": {
    "collapsed": true
   },
   "outputs": [],
   "source": []
  }
 ],
 "metadata": {
  "kernelspec": {
   "display_name": "Python 2",
   "language": "python",
   "name": "python2"
  },
  "language_info": {
   "codemirror_mode": {
    "name": "ipython",
    "version": 2
   },
   "file_extension": ".py",
   "mimetype": "text/x-python",
   "name": "python",
   "nbconvert_exporter": "python",
   "pygments_lexer": "ipython2",
   "version": "2.7.13"
  }
 },
 "nbformat": 4,
 "nbformat_minor": 2
}
