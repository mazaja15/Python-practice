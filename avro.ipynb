{
 "cells": [
  {
   "cell_type": "code",
   "execution_count": 2,
   "metadata": {},
   "outputs": [],
   "source": [
    "import avro.schema\n",
    "from avro.datafile import DataFileReader, DataFileWriter\n",
    "from avro.io import DatumReader, DatumWriter"
   ]
  },
  {
   "cell_type": "code",
   "execution_count": 19,
   "metadata": {},
   "outputs": [
    {
     "data": {
      "text/plain": [
       "{'fields': [{'name': 'name', 'type': 'string'},\n",
       "  {'name': 'favorite_number', 'type': ['int', 'null']},\n",
       "  {'name': 'favorite_color', 'type': ['string', 'null']}],\n",
       " 'name': 'User',\n",
       " 'namespace': 'user.avro',\n",
       " 'type': 'record'}"
      ]
     },
     "execution_count": 19,
     "metadata": {},
     "output_type": "execute_result"
    }
   ],
   "source": [
    "{\"namespace\": \"example.avro\",\n",
    " \"type\": \"record\",\n",
    " \"name\": \"User\",\n",
    " \"fields\": [\n",
    "     {\"name\": \"name\", \"type\": \"string\"},\n",
    "     {\"name\": \"favorite_number\",  \"type\": [\"int\", \"null\"]},\n",
    "     {\"name\": \"favorite_color\", \"type\": [\"string\", \"null\"]}\n",
    " ]\n",
    "}"
   ]
  },
  {
   "cell_type": "code",
   "execution_count": 20,
   "metadata": {},
   "outputs": [
    {
     "ename": "IOError",
     "evalue": "[Errno 2] No such file or directory: 'user.avsc'",
     "output_type": "error",
     "traceback": [
      "\u001b[0;31m---------------------------------------------------------------------------\u001b[0m",
      "\u001b[0;31mIOError\u001b[0m                                   Traceback (most recent call last)",
      "\u001b[0;32m<ipython-input-20-80d747a204d0>\u001b[0m in \u001b[0;36m<module>\u001b[0;34m()\u001b[0m\n\u001b[0;32m----> 1\u001b[0;31m \u001b[0mschema\u001b[0m \u001b[1;33m=\u001b[0m \u001b[0mavro\u001b[0m\u001b[1;33m.\u001b[0m\u001b[0mschema\u001b[0m\u001b[1;33m.\u001b[0m\u001b[0mparse\u001b[0m\u001b[1;33m(\u001b[0m\u001b[0mopen\u001b[0m\u001b[1;33m(\u001b[0m\u001b[1;34m\"user.avsc\"\u001b[0m\u001b[1;33m)\u001b[0m\u001b[1;33m.\u001b[0m\u001b[0mread\u001b[0m\u001b[1;33m(\u001b[0m\u001b[1;33m)\u001b[0m\u001b[1;33m)\u001b[0m\u001b[1;33m\u001b[0m\u001b[0m\n\u001b[0m\u001b[1;32m      2\u001b[0m writer = DataFileWriter(open(\"users.avro\", \"w\"),\n\u001b[1;32m      3\u001b[0m DatumWriter(), schema)\n\u001b[1;32m      4\u001b[0m \u001b[0mwriter\u001b[0m\u001b[1;33m.\u001b[0m\u001b[0mappend\u001b[0m\u001b[1;33m(\u001b[0m\u001b[1;33m{\u001b[0m\u001b[1;34m\"name\"\u001b[0m\u001b[1;33m:\u001b[0m \u001b[1;34m\"Alyssa\"\u001b[0m\u001b[1;33m,\u001b[0m \u001b[1;34m\"favorite_number\"\u001b[0m\u001b[1;33m:\u001b[0m \u001b[1;36m256\u001b[0m\u001b[1;33m}\u001b[0m\u001b[1;33m)\u001b[0m\u001b[1;33m\u001b[0m\u001b[0m\n\u001b[1;32m      5\u001b[0m writer.append({\"name\": \"Ben\", \"favorite_number\": 7,\n",
      "\u001b[0;31mIOError\u001b[0m: [Errno 2] No such file or directory: 'user.avsc'"
     ]
    }
   ],
   "source": [
    "schema = avro.schema.parse(open(\"user.avsc\").read())\n",
    "writer = DataFileWriter(open(\"users.avro\", \"w\"),\n",
    "DatumWriter(), schema)\n",
    "writer.append({\"name\": \"Alyssa\", \"favorite_number\": 256})\n",
    "writer.append({\"name\": \"Ben\", \"favorite_number\": 7,\n",
    "\"favorite_color\": \"red\"})\n",
    "writer.close()\n",
    "reader = DataFileReader(open(\"users.avro\", \"r\"),\n",
    "DatumReader())\n",
    "for user in reader:\n",
    " print user\n",
    "reader.close()"
   ]
  },
  {
   "cell_type": "code",
   "execution_count": null,
   "metadata": {
    "collapsed": true
   },
   "outputs": [],
   "source": []
  }
 ],
 "metadata": {
  "kernelspec": {
   "display_name": "Python 2",
   "language": "python",
   "name": "python2"
  },
  "language_info": {
   "codemirror_mode": {
    "name": "ipython",
    "version": 2
   },
   "file_extension": ".py",
   "mimetype": "text/x-python",
   "name": "python",
   "nbconvert_exporter": "python",
   "pygments_lexer": "ipython2",
   "version": "2.7.13"
  }
 },
 "nbformat": 4,
 "nbformat_minor": 2
}
