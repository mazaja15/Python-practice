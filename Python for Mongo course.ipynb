{
 "cells": [
  {
   "cell_type": "code",
   "execution_count": 5,
   "metadata": {},
   "outputs": [
    {
     "name": "stderr",
     "output_type": "stream",
     "text": [
      "Bottle v0.12.13 server starting up (using WSGIRefServer())...\n",
      "Listening on http://localhost:8080/\n",
      "Hit Ctrl-C to quit.\n",
      "\n",
      "127.0.0.1 - - [09/Jun/2017 11:53:17] \"GET /hello/Mohsin HTTP/1.1\" 200 20\n"
     ]
    },
    {
     "name": "stdout",
     "output_type": "stream",
     "text": [
      "----------------------------------------\n",
      "Exception happened during processing of request from ('127.0.0.1', 62539)\n",
      "----------------------------------------\n"
     ]
    },
    {
     "name": "stderr",
     "output_type": "stream",
     "text": [
      "Traceback (most recent call last):\n",
      "  File \"c:\\users\\student\\anaconda2\\lib\\SocketServer.py\", line 290, in _handle_request_noblock\n",
      "    self.process_request(request, client_address)\n",
      "  File \"c:\\users\\student\\anaconda2\\lib\\SocketServer.py\", line 318, in process_request\n",
      "    self.finish_request(request, client_address)\n",
      "  File \"c:\\users\\student\\anaconda2\\lib\\SocketServer.py\", line 331, in finish_request\n",
      "    self.RequestHandlerClass(request, client_address, self)\n",
      "  File \"c:\\users\\student\\anaconda2\\lib\\SocketServer.py\", line 652, in __init__\n",
      "    self.handle()\n",
      "  File \"c:\\users\\student\\anaconda2\\lib\\wsgiref\\simple_server.py\", line 116, in handle\n",
      "    self.raw_requestline = self.rfile.readline(65537)\n",
      "  File \"c:\\users\\student\\anaconda2\\lib\\socket.py\", line 480, in readline\n",
      "    data = self._sock.recv(self._rbufsize)\n",
      "KeyboardInterrupt\n"
     ]
    }
   ],
   "source": [
    "from bottle import route, run, template  #we framework that let's you create pages\n",
    "\n",
    "@route('/hello/<name>')  #path to be /hello/and a chosen name\n",
    "def index(name):\n",
    "    return template('<b>Hello {{name}}</b>!', name=name) #it's telling it to display 'hello monika' for example if that is the name in the path\n",
    "\n",
    "run(host='localhost', port=8080)  #the path to rin it from - localhost:8080/hello/name"
   ]
  },
  {
   "cell_type": "code",
   "execution_count": 7,
   "metadata": {},
   "outputs": [
    {
     "name": "stdout",
     "output_type": "stream",
     "text": [
      "Dwight\n"
     ]
    }
   ],
   "source": [
    "import pymongo\n",
    "from pymongo import MongoClient\n",
    "\n",
    "#connect to database\n",
    "connection = MongoClient('localhost')\n",
    "\n",
    "db = connection.test\n",
    "\n",
    "#handle the names collection\n",
    "names = db.names\n",
    "\n",
    "item = names.find_one()\n",
    "\n",
    "print item['name']"
   ]
  },
  {
   "cell_type": "code",
   "execution_count": 8,
   "metadata": {},
   "outputs": [
    {
     "name": "stderr",
     "output_type": "stream",
     "text": [
      "Bottle v0.12.13 server starting up (using WSGIRefServer())...\n",
      "Listening on http://localhost:8082/\n",
      "Hit Ctrl-C to quit.\n",
      "\n",
      "127.0.0.1 - - [09/Jun/2017 15:05:25] \"GET /hello/Monika HTTP/1.1\" 200 20\n",
      "127.0.0.1 - - [09/Jun/2017 15:05:35] \"GET / HTTP/1.1\" 200 20\n",
      "127.0.0.1 - - [09/Jun/2017 15:05:43] \"GET / HTTP/1.1\" 200 20\n",
      "127.0.0.1 - - [09/Jun/2017 15:07:49] \"GET / HTTP/1.1\" 200 20\n"
     ]
    }
   ],
   "source": [
    "import bottle\n",
    "import pymongo\n",
    "\n",
    "#this is the handler for the default path of the web server\n",
    "\n",
    "@bottle.route('/') #telling the user the function will be executed when it hits that route (when it hits the / - the default route of a web server is / without any url  e.g localhost:8080/)\n",
    "def index():\n",
    "    \n",
    "    #connect to mongoDB\n",
    "    connection = pymongo.MongoClient('localhost', 27017)\n",
    "    \n",
    "    #attach to the test database\n",
    "    db = connection.test\n",
    "    \n",
    "    #get handle for names collection\n",
    "    name = db.names\n",
    "    \n",
    "    #fina a single document\n",
    "    item = name.find_one()\n",
    "    \n",
    "    return '<b>Hello %s!</b>' % item['name'] \n",
    "\n",
    "bottle.run(host='localhost', port=8082)"
   ]
  },
  {
   "cell_type": "code",
   "execution_count": 11,
   "metadata": {},
   "outputs": [
    {
     "name": "stdout",
     "output_type": "stream",
     "text": [
      "hatpin\n"
     ]
    }
   ],
   "source": [
    "print(\"hat\"+\"pin\")"
   ]
  },
  {
   "cell_type": "code",
   "execution_count": 12,
   "metadata": {
    "collapsed": true
   },
   "outputs": [],
   "source": [
    "things = ['hammer','nail', 'wall']\n"
   ]
  },
  {
   "cell_type": "code",
   "execution_count": 13,
   "metadata": {},
   "outputs": [
    {
     "data": {
      "text/plain": [
       "'wall'"
      ]
     },
     "execution_count": 13,
     "metadata": {},
     "output_type": "execute_result"
    }
   ],
   "source": [
    "things[2]"
   ]
  },
  {
   "cell_type": "code",
   "execution_count": 14,
   "metadata": {},
   "outputs": [
    {
     "data": {
      "text/plain": [
       "['wall']"
      ]
     },
     "execution_count": 14,
     "metadata": {},
     "output_type": "execute_result"
    }
   ],
   "source": [
    "things[2:3]"
   ]
  },
  {
   "cell_type": "code",
   "execution_count": 15,
   "metadata": {
    "collapsed": true
   },
   "outputs": [],
   "source": [
    "things = ['apples','orange','pear', 'grape','kiwi']"
   ]
  },
  {
   "cell_type": "code",
   "execution_count": 16,
   "metadata": {},
   "outputs": [
    {
     "data": {
      "text/plain": [
       "['orange', 'pear']"
      ]
     },
     "execution_count": 16,
     "metadata": {},
     "output_type": "execute_result"
    }
   ],
   "source": [
    "things[1:3]"
   ]
  },
  {
   "cell_type": "code",
   "execution_count": 17,
   "metadata": {},
   "outputs": [
    {
     "data": {
      "text/plain": [
       "True"
      ]
     },
     "execution_count": 17,
     "metadata": {},
     "output_type": "execute_result"
    }
   ],
   "source": [
    "'pear' in things"
   ]
  },
  {
   "cell_type": "code",
   "execution_count": 21,
   "metadata": {},
   "outputs": [
    {
     "name": "stdout",
     "output_type": "stream",
     "text": [
      "There is a pear\n"
     ]
    }
   ],
   "source": [
    "if 'pear' in things:\n",
    "    print 'There is a pear'\n",
    "else: \n",
    "    print 'There is no pear'"
   ]
  },
  {
   "cell_type": "code",
   "execution_count": 22,
   "metadata": {
    "collapsed": true
   },
   "outputs": [],
   "source": [
    "a = {'name':'Bob', 'age':20}"
   ]
  },
  {
   "cell_type": "code",
   "execution_count": 23,
   "metadata": {},
   "outputs": [
    {
     "data": {
      "text/plain": [
       "'Bob'"
      ]
     },
     "execution_count": 23,
     "metadata": {},
     "output_type": "execute_result"
    }
   ],
   "source": [
    "a['name']"
   ]
  },
  {
   "cell_type": "code",
   "execution_count": 26,
   "metadata": {},
   "outputs": [],
   "source": [
    "a['name']='Jim'"
   ]
  },
  {
   "cell_type": "code",
   "execution_count": 27,
   "metadata": {},
   "outputs": [
    {
     "data": {
      "text/plain": [
       "'Jim'"
      ]
     },
     "execution_count": 27,
     "metadata": {},
     "output_type": "execute_result"
    }
   ],
   "source": [
    "a['name']"
   ]
  },
  {
   "cell_type": "code",
   "execution_count": 28,
   "metadata": {},
   "outputs": [
    {
     "data": {
      "text/plain": [
       "{'age': 20, 'name': 'Jim'}"
      ]
     },
     "execution_count": 28,
     "metadata": {},
     "output_type": "execute_result"
    }
   ],
   "source": [
    "a"
   ]
  },
  {
   "cell_type": "code",
   "execution_count": 29,
   "metadata": {
    "collapsed": true
   },
   "outputs": [],
   "source": [
    "b = a['name']"
   ]
  },
  {
   "cell_type": "code",
   "execution_count": 31,
   "metadata": {},
   "outputs": [
    {
     "data": {
      "text/plain": [
       "'Jim'"
      ]
     },
     "execution_count": 31,
     "metadata": {},
     "output_type": "execute_result"
    }
   ],
   "source": [
    "b"
   ]
  },
  {
   "cell_type": "code",
   "execution_count": 34,
   "metadata": {},
   "outputs": [
    {
     "data": {
      "text/plain": [
       "{'age': 20}"
      ]
     },
     "execution_count": 34,
     "metadata": {},
     "output_type": "execute_result"
    }
   ],
   "source": [
    "a"
   ]
  },
  {
   "cell_type": "code",
   "execution_count": 36,
   "metadata": {},
   "outputs": [
    {
     "data": {
      "text/plain": [
       "['age']"
      ]
     },
     "execution_count": 36,
     "metadata": {},
     "output_type": "execute_result"
    }
   ],
   "source": [
    "a.keys() #shows the dict keys"
   ]
  },
  {
   "cell_type": "code",
   "execution_count": 37,
   "metadata": {},
   "outputs": [
    {
     "data": {
      "text/plain": [
       "True"
      ]
     },
     "execution_count": 37,
     "metadata": {},
     "output_type": "execute_result"
    }
   ],
   "source": [
    "'age' in a"
   ]
  },
  {
   "cell_type": "code",
   "execution_count": 38,
   "metadata": {},
   "outputs": [
    {
     "data": {
      "text/plain": [
       "False"
      ]
     },
     "execution_count": 38,
     "metadata": {},
     "output_type": "execute_result"
    }
   ],
   "source": [
    "20 in a"
   ]
  },
  {
   "cell_type": "code",
   "execution_count": 39,
   "metadata": {},
   "outputs": [
    {
     "data": {
      "text/plain": [
       "True"
      ]
     },
     "execution_count": 39,
     "metadata": {},
     "output_type": "execute_result"
    }
   ],
   "source": [
    "20 in a.values()"
   ]
  },
  {
   "cell_type": "code",
   "execution_count": 40,
   "metadata": {
    "collapsed": true
   },
   "outputs": [],
   "source": [
    "colors = {'sky':'blue', 'sea':'blue', 'earth':'brown'}"
   ]
  },
  {
   "cell_type": "code",
   "execution_count": 41,
   "metadata": {
    "collapsed": true
   },
   "outputs": [],
   "source": [
    "thing = {'animals': ['dog', 'cat', 'zebra']}"
   ]
  },
  {
   "cell_type": "code",
   "execution_count": 42,
   "metadata": {},
   "outputs": [
    {
     "data": {
      "text/plain": [
       "{'animals': ['dog', 'cat', 'zebra']}"
      ]
     },
     "execution_count": 42,
     "metadata": {},
     "output_type": "execute_result"
    }
   ],
   "source": [
    "thing"
   ]
  },
  {
   "cell_type": "code",
   "execution_count": 43,
   "metadata": {},
   "outputs": [
    {
     "name": "stdout",
     "output_type": "stream",
     "text": [
      "apple\n",
      "orange\n",
      "grape\n",
      "['apple', 'orange', 'grape']\n"
     ]
    }
   ],
   "source": [
    "fruit = ['apple', 'orange', 'grape'] #innitialise the array\n",
    "\n",
    "new_fruit = []\n",
    "\n",
    "for item in fruit: #iterate\n",
    "    print item\n",
    "    \n",
    "    new_fruit.append(item) # add the items to the new list\n",
    "\n",
    "# new_fruit.append(item) - if this was not intended, it would only append the last value of the list that the for loop iterated through i.e. grape\n",
    "\n",
    "print new_fruit\n",
    "\n"
   ]
  },
  {
   "cell_type": "code",
   "execution_count": 48,
   "metadata": {},
   "outputs": [
    {
     "name": "stdout",
     "output_type": "stream",
     "text": [
      "1\n",
      "2\n",
      "3\n",
      "5\n",
      "8\n"
     ]
    }
   ],
   "source": [
    "sum = 0\n",
    "numbers =[1,2,3,5,8]\n",
    "for i in numbers:\n",
    "    sum = sum + i\n",
    "    print i "
   ]
  },
  {
   "cell_type": "code",
   "execution_count": 49,
   "metadata": {
    "collapsed": true
   },
   "outputs": [],
   "source": [
    "person ={'name': 'Monika Zajac', 'favourite_colour': 'yellow', 'hair': 'brown'}"
   ]
  },
  {
   "cell_type": "code",
   "execution_count": 53,
   "metadata": {},
   "outputs": [
    {
     "name": "stdout",
     "output_type": "stream",
     "text": [
      "key is favourite_colour and value is yellow\n",
      "key is hair and value is brown\n",
      "key is name and value is Monika Zajac\n"
     ]
    }
   ],
   "source": [
    "for key in person:\n",
    "    print 'key is' + ' ' + key + ' ' + 'and' + ' ' + 'value is' + ' ' + person[key] #key doesn't need to be in quotes because it's a variable"
   ]
  },
  {
   "cell_type": "code",
   "execution_count": null,
   "metadata": {
    "collapsed": true
   },
   "outputs": [],
   "source": []
  }
 ],
 "metadata": {
  "kernelspec": {
   "display_name": "Python 2",
   "language": "python",
   "name": "python2"
  },
  "language_info": {
   "codemirror_mode": {
    "name": "ipython",
    "version": 2
   },
   "file_extension": ".py",
   "mimetype": "text/x-python",
   "name": "python",
   "nbconvert_exporter": "python",
   "pygments_lexer": "ipython2",
   "version": "2.7.13"
  }
 },
 "nbformat": 4,
 "nbformat_minor": 2
}
