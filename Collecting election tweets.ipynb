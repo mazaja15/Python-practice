{
 "cells": [
  {
   "cell_type": "code",
   "execution_count": 1,
   "metadata": {
    "collapsed": true
   },
   "outputs": [],
   "source": [
    "import pymongo\n",
    "from pprint import pprint\n",
    "import pandas as pd\n",
    "from pymongo import MongoClient\n",
    "from pandas import DataFrame, TimeSeries\n",
    "\n",
    "import numpy as np\n",
    "import plotly.plotly as py\n",
    "import plotly.graph_objs as go\n",
    "import plotly\n",
    "import cufflinks as cf\n",
    "import json\n",
    "from pandas.io.json import json_normalize\n",
    "%matplotlib inline\n",
    "def connect_to_mongo():\n",
    "    try:\n",
    "        client = MongoClient()\n",
    "        print 'Connection to Mongo successful'\n",
    "    except pymongo.errors.ConnectionFailure as e:\n",
    "        print e\n",
    "        return\n",
    "\n",
    "    return client\n",
    "\n",
    "def connect_to_collection(db_string, coll_string):\n",
    "    try:\n",
    "\n",
    "        client = connect_to_mongo()\n",
    "        db = client[db_string]\n",
    "        collection = db[coll_string]\n",
    "        print 'Connection to collection successful'\n",
    "    except pymongo.errors.ConnectionFailure as e:\n",
    "        print e\n",
    "        return\n",
    "    return collection\n",
    "\n",
    "\n",
    "def tweets_into_DataFrame(Collection):\n",
    "\n",
    "    query = {'Polarity':1,'text':1,'Subjectivity':1,'created_at':1}\n",
    "\n",
    "\n",
    "    data = json_normalize(list(Collection.find(filter = {}, projection = query)))\n",
    "#data = DataFrame(list(Collection.find()))\n",
    "    return data\n"
   ]
  },
  {
   "cell_type": "code",
   "execution_count": 2,
   "metadata": {},
   "outputs": [
    {
     "name": "stdout",
     "output_type": "stream",
     "text": [
      "Connection to Mongo successful\n",
      "Connection to collection successful\n"
     ]
    }
   ],
   "source": [
    "col = connect_to_collection('twitter_db','twitter_collection_national')\n",
    "\n",
    "data = tweets_into_DataFrame(col) # ALL DATA\n",
    "\n",
    "data['created_at'] = pd.to_datetime(data['created_at'])\n"
   ]
  },
  {
   "cell_type": "code",
   "execution_count": null,
   "metadata": {
    "collapsed": true
   },
   "outputs": [],
   "source": [
    "# ['conservatives', 'theresa may', 'conservative party', 'theresamay', 'tories', 'tory', 'conservativeparty', 'theresa_may','#votetory', '#toriesout','#VoteConservative']"
   ]
  },
  {
   "cell_type": "code",
   "execution_count": 3,
   "metadata": {},
   "outputs": [
    {
     "ename": "ValueError",
     "evalue": "The truth value of a Series is ambiguous. Use a.empty, a.bool(), a.item(), a.any() or a.all().",
     "output_type": "error",
     "traceback": [
      "\u001b[0;31m---------------------------------------------------------------------------\u001b[0m",
      "\u001b[0;31mValueError\u001b[0m                                Traceback (most recent call last)",
      "\u001b[0;32m<ipython-input-3-feee08ae47d9>\u001b[0m in \u001b[0;36m<module>\u001b[0;34m()\u001b[0m\n\u001b[0;32m----> 1\u001b[0;31m \u001b[0mData\u001b[0m \u001b[1;33m=\u001b[0m \u001b[0mdata\u001b[0m\u001b[1;33m[\u001b[0m\u001b[0mdata\u001b[0m\u001b[1;33m[\u001b[0m\u001b[1;34m'text'\u001b[0m\u001b[1;33m]\u001b[0m \u001b[1;32min\u001b[0m \u001b[1;33m[\u001b[0m\u001b[1;34m'conservatives'\u001b[0m\u001b[1;33m,\u001b[0m \u001b[1;34m'theresa may'\u001b[0m\u001b[1;33m,\u001b[0m \u001b[1;34m'conservative party'\u001b[0m\u001b[1;33m,\u001b[0m \u001b[1;34m'theresamay'\u001b[0m\u001b[1;33m,\u001b[0m \u001b[1;34m'tories'\u001b[0m\u001b[1;33m,\u001b[0m \u001b[1;34m'tory'\u001b[0m\u001b[1;33m,\u001b[0m \u001b[1;34m'conservativeparty'\u001b[0m\u001b[1;33m,\u001b[0m \u001b[1;34m'theresa_may'\u001b[0m\u001b[1;33m,\u001b[0m\u001b[1;34m'#votetory'\u001b[0m\u001b[1;33m,\u001b[0m \u001b[1;34m'#toriesout'\u001b[0m\u001b[1;33m,\u001b[0m\u001b[1;34m'#VoteConservative'\u001b[0m\u001b[1;33m]\u001b[0m\u001b[1;33m]\u001b[0m\u001b[1;33m\u001b[0m\u001b[0m\n\u001b[0m",
      "\u001b[0;32mc:\\users\\student\\anaconda2\\lib\\site-packages\\pandas\\core\\generic.pyc\u001b[0m in \u001b[0;36m__nonzero__\u001b[0;34m(self)\u001b[0m\n\u001b[1;32m    915\u001b[0m         raise ValueError(\"The truth value of a {0} is ambiguous. \"\n\u001b[1;32m    916\u001b[0m                          \u001b[1;34m\"Use a.empty, a.bool(), a.item(), a.any() or a.all().\"\u001b[0m\u001b[1;33m\u001b[0m\u001b[0m\n\u001b[0;32m--> 917\u001b[0;31m                          .format(self.__class__.__name__))\n\u001b[0m\u001b[1;32m    918\u001b[0m \u001b[1;33m\u001b[0m\u001b[0m\n\u001b[1;32m    919\u001b[0m     \u001b[0m__bool__\u001b[0m \u001b[1;33m=\u001b[0m \u001b[0m__nonzero__\u001b[0m\u001b[1;33m\u001b[0m\u001b[0m\n",
      "\u001b[0;31mValueError\u001b[0m: The truth value of a Series is ambiguous. Use a.empty, a.bool(), a.item(), a.any() or a.all()."
     ]
    }
   ],
   "source": [
    "Data = data[data['text'] | ['conservatives', 'theresa may', 'conservative party', 'theresamay', 'tories', 'tory', 'conservativeparty', 'theresa_may','#votetory', '#toriesout','#VoteConservative']]"
   ]
  },
  {
   "cell_type": "code",
   "execution_count": null,
   "metadata": {
    "collapsed": true
   },
   "outputs": [],
   "source": [
    "Data.set_index(['created_at'], inplace = True)"
   ]
  },
  {
   "cell_type": "code",
   "execution_count": null,
   "metadata": {
    "collapsed": true
   },
   "outputs": [],
   "source": []
  }
 ],
 "metadata": {
  "kernelspec": {
   "display_name": "Python 2",
   "language": "python",
   "name": "python2"
  },
  "language_info": {
   "codemirror_mode": {
    "name": "ipython",
    "version": 2
   },
   "file_extension": ".py",
   "mimetype": "text/x-python",
   "name": "python",
   "nbconvert_exporter": "python",
   "pygments_lexer": "ipython2",
   "version": "2.7.13"
  }
 },
 "nbformat": 4,
 "nbformat_minor": 2
}
