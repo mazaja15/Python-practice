{
 "cells": [
  {
   "cell_type": "code",
   "execution_count": 21,
   "metadata": {},
   "outputs": [
    {
     "ename": "ImportError",
     "evalue": "cannot import name pyGTrends",
     "output_type": "error",
     "traceback": [
      "\u001b[0;31m---------------------------------------------------------------------------\u001b[0m",
      "\u001b[0;31mImportError\u001b[0m                               Traceback (most recent call last)",
      "\u001b[0;32m<ipython-input-21-1ae92a5f9dc3>\u001b[0m in \u001b[0;36m<module>\u001b[0;34m()\u001b[0m\n\u001b[0;32m----> 1\u001b[0;31m \u001b[1;32mfrom\u001b[0m \u001b[0mpytrends\u001b[0m \u001b[1;32mimport\u001b[0m \u001b[0mpyGTrends\u001b[0m\u001b[1;33m\u001b[0m\u001b[0m\n\u001b[0m\u001b[1;32m      2\u001b[0m \u001b[1;32mimport\u001b[0m \u001b[0mtime\u001b[0m\u001b[1;33m\u001b[0m\u001b[0m\n\u001b[1;32m      3\u001b[0m \u001b[1;32mfrom\u001b[0m \u001b[0mrandom\u001b[0m \u001b[1;32mimport\u001b[0m \u001b[0mrandint\u001b[0m\u001b[1;33m\u001b[0m\u001b[0m\n\u001b[1;32m      4\u001b[0m \u001b[1;32mfrom\u001b[0m \u001b[0mIPython\u001b[0m\u001b[1;33m.\u001b[0m\u001b[0mdisplay\u001b[0m \u001b[1;32mimport\u001b[0m \u001b[0mdisplay\u001b[0m\u001b[1;33m\u001b[0m\u001b[0m\n\u001b[1;32m      5\u001b[0m \u001b[1;32mfrom\u001b[0m \u001b[0mpprint\u001b[0m \u001b[1;32mimport\u001b[0m \u001b[0mpprint\u001b[0m\u001b[1;33m\u001b[0m\u001b[0m\n",
      "\u001b[0;31mImportError\u001b[0m: cannot import name pyGTrends"
     ]
    }
   ],
   "source": [
    "from pytrends import pyGTrends\n",
    "import time\n",
    "from random import randint\n",
    "from IPython.display import display\n",
    "from pprint import pprint\n",
    "import urllib\n",
    "import sys"
   ]
  },
  {
   "cell_type": "code",
   "execution_count": 20,
   "metadata": {},
   "outputs": [
    {
     "ename": "TypeError",
     "evalue": "'module' object is not callable",
     "output_type": "error",
     "traceback": [
      "\u001b[0;31m---------------------------------------------------------------------------\u001b[0m",
      "\u001b[0;31mTypeError\u001b[0m                                 Traceback (most recent call last)",
      "\u001b[0;32m<ipython-input-20-af3083f69b99>\u001b[0m in \u001b[0;36m<module>\u001b[0;34m()\u001b[0m\n\u001b[1;32m     11\u001b[0m ]\n\u001b[1;32m     12\u001b[0m \u001b[1;33m\u001b[0m\u001b[0m\n\u001b[0;32m---> 13\u001b[0;31m \u001b[0mconnector\u001b[0m \u001b[1;33m=\u001b[0m \u001b[0mpytrends\u001b[0m\u001b[1;33m(\u001b[0m\u001b[0mgoogle_username\u001b[0m\u001b[1;33m,\u001b[0m \u001b[0mgoogle_password\u001b[0m\u001b[1;33m)\u001b[0m\u001b[1;33m\u001b[0m\u001b[0m\n\u001b[0m\u001b[1;32m     14\u001b[0m \u001b[1;33m\u001b[0m\u001b[0m\n\u001b[1;32m     15\u001b[0m \u001b[1;33m\u001b[0m\u001b[0m\n",
      "\u001b[0;31mTypeError\u001b[0m: 'module' object is not callable"
     ]
    }
   ],
   "source": [
    "google_username = \"monicababesx3\"\n",
    "google_password = \"monika15\"\n",
    "path = \".\"\n",
    "\n",
    "terms = [\n",
    "    \"Conservative party\",\n",
    "    \"Labour party\",\n",
    "    \"Green party\",\n",
    "    \"LibDem\",\n",
    "    \"SNP\",\n",
    "]\n",
    "\n",
    "connector = pytrends(google_username, google_password)\n",
    "\n",
    "\n",
    "for label in terms:\n",
    "    print(label)\n",
    "    sys.stdout.flush()\n",
    "    #kw_string = '\"{0}\"'.format(keyword, base_keyword)\n",
    "    connector.request_report(label, geo=\"UK\", date=\"05/2017 96m\")\n",
    "    # wait a random amount of time between requests to avoid bot detection\n",
    "    time.sleep(randint(5, 10))\n",
    "    # download file\n",
    "    connector.save_csv(\"C:\\Data\", \"label\")\n",
    "\n",
    "for term in terms:\n",
    "    data = connector.get_suggestions(term)\n",
    "    pprint(data)"
   ]
  },
  {
   "cell_type": "code",
   "execution_count": null,
   "metadata": {
    "collapsed": true
   },
   "outputs": [],
   "source": []
  }
 ],
 "metadata": {
  "kernelspec": {
   "display_name": "Python 2",
   "language": "python",
   "name": "python2"
  },
  "language_info": {
   "codemirror_mode": {
    "name": "ipython",
    "version": 2
   },
   "file_extension": ".py",
   "mimetype": "text/x-python",
   "name": "python",
   "nbconvert_exporter": "python",
   "pygments_lexer": "ipython2",
   "version": "2.7.13"
  }
 },
 "nbformat": 4,
 "nbformat_minor": 2
}
