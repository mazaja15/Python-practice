{
 "cells": [
  {
   "cell_type": "code",
   "execution_count": 32,
   "metadata": {
    "collapsed": true
   },
   "outputs": [],
   "source": [
    "from pandas import DataFrame, Series\n",
    "import pandas as pd\n",
    "import numpy as np"
   ]
  },
  {
   "cell_type": "code",
   "execution_count": 4,
   "metadata": {},
   "outputs": [],
   "source": [
    "df2 = DataFrame([['1'], ['2'], ['3'], \\\n",
    "                ['4'], ['5'], ['6'], \\\n",
    "                ['7'], ['8'], ['9'], \\\n",
    "                ['10']], columns=['Col1'])"
   ]
  },
  {
   "cell_type": "code",
   "execution_count": 15,
   "metadata": {},
   "outputs": [
    {
     "ename": "TypeError",
     "evalue": "'instancemethod' object has no attribute '__getitem__'",
     "output_type": "error",
     "traceback": [
      "\u001b[0;31m---------------------------------------------------------------------------\u001b[0m",
      "\u001b[0;31mTypeError\u001b[0m                                 Traceback (most recent call last)",
      "\u001b[0;32m<ipython-input-15-ccc0799d1711>\u001b[0m in \u001b[0;36m<module>\u001b[0;34m()\u001b[0m\n\u001b[0;32m----> 1\u001b[0;31m \u001b[0mdf2\u001b[0m\u001b[1;33m.\u001b[0m\u001b[0mastype\u001b[0m\u001b[1;33m(\u001b[0m\u001b[0mint\u001b[0m\u001b[1;33m)\u001b[0m\u001b[1;33m.\u001b[0m\u001b[0msort_values\u001b[0m\u001b[1;33m[\u001b[0m\u001b[1;34m'Col1'\u001b[0m\u001b[1;33m]\u001b[0m\u001b[1;33m\u001b[0m\u001b[0m\n\u001b[0m",
      "\u001b[0;31mTypeError\u001b[0m: 'instancemethod' object has no attribute '__getitem__'"
     ]
    }
   ],
   "source": [
    "df2.astype(int).sort_values['Col1']"
   ]
  },
  {
   "cell_type": "code",
   "execution_count": null,
   "metadata": {
    "collapsed": true
   },
   "outputs": [],
   "source": [
    "tz_counts[:10].plot(kin)"
   ]
  },
  {
   "cell_type": "markdown",
   "metadata": {},
   "source": [
    "Wednesday practice"
   ]
  },
  {
   "cell_type": "code",
   "execution_count": 25,
   "metadata": {},
   "outputs": [],
   "source": [
    "hp = DataFrame(data = [['Lordship Lane, London N17', 625000, '3 bed semi-detached house', '2017-01-19'], \\\n",
    "                       ['Sperling Road, London N17', 495000, '3 bed terraced house', '2017-01-18'], \\\n",
    "                       ['Rivulet Road, London N17', 450000, '3 bed semi-detached house', '2017-01-18'], \\\n",
    "                       ['Ruskin Road, London N17', 550000, '6 bed terraced house', '2017-01-17'], \\\n",
    "                       ['Handsworth Road, London N17', 339995, '2 bed flat', '2017-01-17']], \\\n",
    "                        columns = ['location', 'listprice', 'description', 'listdate'])"
   ]
  },
  {
   "cell_type": "code",
   "execution_count": 26,
   "metadata": {},
   "outputs": [
    {
     "data": {
      "text/html": [
       "<div>\n",
       "<table border=\"1\" class=\"dataframe\">\n",
       "  <thead>\n",
       "    <tr style=\"text-align: right;\">\n",
       "      <th></th>\n",
       "      <th>location</th>\n",
       "      <th>listprice</th>\n",
       "      <th>description</th>\n",
       "      <th>listdate</th>\n",
       "    </tr>\n",
       "  </thead>\n",
       "  <tbody>\n",
       "    <tr>\n",
       "      <th>0</th>\n",
       "      <td>Lordship Lane, London N17</td>\n",
       "      <td>625000</td>\n",
       "      <td>3 bed semi-detached house</td>\n",
       "      <td>2017-01-19</td>\n",
       "    </tr>\n",
       "    <tr>\n",
       "      <th>1</th>\n",
       "      <td>Sperling Road, London N17</td>\n",
       "      <td>495000</td>\n",
       "      <td>3 bed terraced house</td>\n",
       "      <td>2017-01-18</td>\n",
       "    </tr>\n",
       "    <tr>\n",
       "      <th>2</th>\n",
       "      <td>Rivulet Road, London N17</td>\n",
       "      <td>450000</td>\n",
       "      <td>3 bed semi-detached house</td>\n",
       "      <td>2017-01-18</td>\n",
       "    </tr>\n",
       "    <tr>\n",
       "      <th>3</th>\n",
       "      <td>Ruskin Road, London N17</td>\n",
       "      <td>550000</td>\n",
       "      <td>6 bed terraced house</td>\n",
       "      <td>2017-01-17</td>\n",
       "    </tr>\n",
       "    <tr>\n",
       "      <th>4</th>\n",
       "      <td>Handsworth Road, London N17</td>\n",
       "      <td>339995</td>\n",
       "      <td>2 bed flat</td>\n",
       "      <td>2017-01-17</td>\n",
       "    </tr>\n",
       "  </tbody>\n",
       "</table>\n",
       "</div>"
      ],
      "text/plain": [
       "                      location  listprice                description  \\\n",
       "0    Lordship Lane, London N17     625000  3 bed semi-detached house   \n",
       "1    Sperling Road, London N17     495000       3 bed terraced house   \n",
       "2     Rivulet Road, London N17     450000  3 bed semi-detached house   \n",
       "3      Ruskin Road, London N17     550000       6 bed terraced house   \n",
       "4  Handsworth Road, London N17     339995                 2 bed flat   \n",
       "\n",
       "     listdate  \n",
       "0  2017-01-19  \n",
       "1  2017-01-18  \n",
       "2  2017-01-18  \n",
       "3  2017-01-17  \n",
       "4  2017-01-17  "
      ]
     },
     "execution_count": 26,
     "metadata": {},
     "output_type": "execute_result"
    }
   ],
   "source": [
    "hp"
   ]
  },
  {
   "cell_type": "code",
   "execution_count": 27,
   "metadata": {},
   "outputs": [
    {
     "data": {
      "text/plain": [
       "location       object\n",
       "listprice       int64\n",
       "description    object\n",
       "listdate       object\n",
       "dtype: object"
      ]
     },
     "execution_count": 27,
     "metadata": {},
     "output_type": "execute_result"
    }
   ],
   "source": [
    "hp.dtypes"
   ]
  },
  {
   "cell_type": "code",
   "execution_count": 28,
   "metadata": {
    "collapsed": true
   },
   "outputs": [],
   "source": [
    "hp.listdate = hp.listdate.astype('datetime64[ns]', inplace=True)"
   ]
  },
  {
   "cell_type": "code",
   "execution_count": 29,
   "metadata": {},
   "outputs": [
    {
     "data": {
      "text/plain": [
       "location               object\n",
       "listprice               int64\n",
       "description            object\n",
       "listdate       datetime64[ns]\n",
       "dtype: object"
      ]
     },
     "execution_count": 29,
     "metadata": {},
     "output_type": "execute_result"
    }
   ],
   "source": [
    "  hp.dtypes"
   ]
  },
  {
   "cell_type": "code",
   "execution_count": 30,
   "metadata": {
    "collapsed": true
   },
   "outputs": [],
   "source": [
    "hp.listprice = hp.listprice.astype('float', inplace=True)"
   ]
  },
  {
   "cell_type": "code",
   "execution_count": 35,
   "metadata": {},
   "outputs": [],
   "source": [
    "hp['som'] = pd.DatetimeIndex(np.array(hp.listdate, dtype='datetime64[M]'), freq=None) #  finding start of the month"
   ]
  },
  {
   "cell_type": "code",
   "execution_count": 36,
   "metadata": {},
   "outputs": [
    {
     "data": {
      "text/html": [
       "<div>\n",
       "<table border=\"1\" class=\"dataframe\">\n",
       "  <thead>\n",
       "    <tr style=\"text-align: right;\">\n",
       "      <th></th>\n",
       "      <th>location</th>\n",
       "      <th>listprice</th>\n",
       "      <th>description</th>\n",
       "      <th>listdate</th>\n",
       "      <th>som</th>\n",
       "    </tr>\n",
       "  </thead>\n",
       "  <tbody>\n",
       "    <tr>\n",
       "      <th>0</th>\n",
       "      <td>Lordship Lane, London N17</td>\n",
       "      <td>625000.0</td>\n",
       "      <td>3 bed semi-detached house</td>\n",
       "      <td>2017-01-19</td>\n",
       "      <td>2017-01-01</td>\n",
       "    </tr>\n",
       "    <tr>\n",
       "      <th>1</th>\n",
       "      <td>Sperling Road, London N17</td>\n",
       "      <td>495000.0</td>\n",
       "      <td>3 bed terraced house</td>\n",
       "      <td>2017-01-18</td>\n",
       "      <td>2017-01-01</td>\n",
       "    </tr>\n",
       "    <tr>\n",
       "      <th>2</th>\n",
       "      <td>Rivulet Road, London N17</td>\n",
       "      <td>450000.0</td>\n",
       "      <td>3 bed semi-detached house</td>\n",
       "      <td>2017-01-18</td>\n",
       "      <td>2017-01-01</td>\n",
       "    </tr>\n",
       "    <tr>\n",
       "      <th>3</th>\n",
       "      <td>Ruskin Road, London N17</td>\n",
       "      <td>550000.0</td>\n",
       "      <td>6 bed terraced house</td>\n",
       "      <td>2017-01-17</td>\n",
       "      <td>2017-01-01</td>\n",
       "    </tr>\n",
       "    <tr>\n",
       "      <th>4</th>\n",
       "      <td>Handsworth Road, London N17</td>\n",
       "      <td>339995.0</td>\n",
       "      <td>2 bed flat</td>\n",
       "      <td>2017-01-17</td>\n",
       "      <td>2017-01-01</td>\n",
       "    </tr>\n",
       "  </tbody>\n",
       "</table>\n",
       "</div>"
      ],
      "text/plain": [
       "                      location  listprice                description  \\\n",
       "0    Lordship Lane, London N17   625000.0  3 bed semi-detached house   \n",
       "1    Sperling Road, London N17   495000.0       3 bed terraced house   \n",
       "2     Rivulet Road, London N17   450000.0  3 bed semi-detached house   \n",
       "3      Ruskin Road, London N17   550000.0       6 bed terraced house   \n",
       "4  Handsworth Road, London N17   339995.0                 2 bed flat   \n",
       "\n",
       "    listdate        som  \n",
       "0 2017-01-19 2017-01-01  \n",
       "1 2017-01-18 2017-01-01  \n",
       "2 2017-01-18 2017-01-01  \n",
       "3 2017-01-17 2017-01-01  \n",
       "4 2017-01-17 2017-01-01  "
      ]
     },
     "execution_count": 36,
     "metadata": {},
     "output_type": "execute_result"
    }
   ],
   "source": [
    "hp"
   ]
  },
  {
   "cell_type": "code",
   "execution_count": 37,
   "metadata": {
    "collapsed": true
   },
   "outputs": [],
   "source": [
    "hp.drop(2, 0, inplace=True)   # 0 means row therefore you are dropping row 2, if wanted to drop column then: (2,1)"
   ]
  },
  {
   "cell_type": "code",
   "execution_count": 38,
   "metadata": {},
   "outputs": [
    {
     "data": {
      "text/html": [
       "<div>\n",
       "<table border=\"1\" class=\"dataframe\">\n",
       "  <thead>\n",
       "    <tr style=\"text-align: right;\">\n",
       "      <th></th>\n",
       "      <th>location</th>\n",
       "      <th>listprice</th>\n",
       "      <th>description</th>\n",
       "      <th>listdate</th>\n",
       "      <th>som</th>\n",
       "    </tr>\n",
       "  </thead>\n",
       "  <tbody>\n",
       "    <tr>\n",
       "      <th>0</th>\n",
       "      <td>Lordship Lane, London N17</td>\n",
       "      <td>625000.0</td>\n",
       "      <td>3 bed semi-detached house</td>\n",
       "      <td>2017-01-19</td>\n",
       "      <td>2017-01-01</td>\n",
       "    </tr>\n",
       "    <tr>\n",
       "      <th>1</th>\n",
       "      <td>Sperling Road, London N17</td>\n",
       "      <td>495000.0</td>\n",
       "      <td>3 bed terraced house</td>\n",
       "      <td>2017-01-18</td>\n",
       "      <td>2017-01-01</td>\n",
       "    </tr>\n",
       "    <tr>\n",
       "      <th>3</th>\n",
       "      <td>Ruskin Road, London N17</td>\n",
       "      <td>550000.0</td>\n",
       "      <td>6 bed terraced house</td>\n",
       "      <td>2017-01-17</td>\n",
       "      <td>2017-01-01</td>\n",
       "    </tr>\n",
       "    <tr>\n",
       "      <th>4</th>\n",
       "      <td>Handsworth Road, London N17</td>\n",
       "      <td>339995.0</td>\n",
       "      <td>2 bed flat</td>\n",
       "      <td>2017-01-17</td>\n",
       "      <td>2017-01-01</td>\n",
       "    </tr>\n",
       "  </tbody>\n",
       "</table>\n",
       "</div>"
      ],
      "text/plain": [
       "                      location  listprice                description  \\\n",
       "0    Lordship Lane, London N17   625000.0  3 bed semi-detached house   \n",
       "1    Sperling Road, London N17   495000.0       3 bed terraced house   \n",
       "3      Ruskin Road, London N17   550000.0       6 bed terraced house   \n",
       "4  Handsworth Road, London N17   339995.0                 2 bed flat   \n",
       "\n",
       "    listdate        som  \n",
       "0 2017-01-19 2017-01-01  \n",
       "1 2017-01-18 2017-01-01  \n",
       "3 2017-01-17 2017-01-01  \n",
       "4 2017-01-17 2017-01-01  "
      ]
     },
     "execution_count": 38,
     "metadata": {},
     "output_type": "execute_result"
    }
   ],
   "source": [
    "hp"
   ]
  },
  {
   "cell_type": "code",
   "execution_count": 39,
   "metadata": {
    "collapsed": true
   },
   "outputs": [],
   "source": [
    "hp['eom'] = pd.DatetimeIndex(np.array(hp.listdate, dtype='datetime64[D]'), freq=None) \\ #  finding end of the month \n",
    "+ pd.tseries.offsets.MonthEnd(1)"
   ]
  },
  {
   "cell_type": "code",
   "execution_count": 40,
   "metadata": {},
   "outputs": [
    {
     "data": {
      "text/html": [
       "<div>\n",
       "<table border=\"1\" class=\"dataframe\">\n",
       "  <thead>\n",
       "    <tr style=\"text-align: right;\">\n",
       "      <th></th>\n",
       "      <th>location</th>\n",
       "      <th>listprice</th>\n",
       "      <th>description</th>\n",
       "      <th>listdate</th>\n",
       "      <th>som</th>\n",
       "      <th>eom</th>\n",
       "    </tr>\n",
       "  </thead>\n",
       "  <tbody>\n",
       "    <tr>\n",
       "      <th>0</th>\n",
       "      <td>Lordship Lane, London N17</td>\n",
       "      <td>625000.0</td>\n",
       "      <td>3 bed semi-detached house</td>\n",
       "      <td>2017-01-19</td>\n",
       "      <td>2017-01-01</td>\n",
       "      <td>2017-01-31</td>\n",
       "    </tr>\n",
       "    <tr>\n",
       "      <th>1</th>\n",
       "      <td>Sperling Road, London N17</td>\n",
       "      <td>495000.0</td>\n",
       "      <td>3 bed terraced house</td>\n",
       "      <td>2017-01-18</td>\n",
       "      <td>2017-01-01</td>\n",
       "      <td>2017-01-31</td>\n",
       "    </tr>\n",
       "    <tr>\n",
       "      <th>3</th>\n",
       "      <td>Ruskin Road, London N17</td>\n",
       "      <td>550000.0</td>\n",
       "      <td>6 bed terraced house</td>\n",
       "      <td>2017-01-17</td>\n",
       "      <td>2017-01-01</td>\n",
       "      <td>2017-01-31</td>\n",
       "    </tr>\n",
       "    <tr>\n",
       "      <th>4</th>\n",
       "      <td>Handsworth Road, London N17</td>\n",
       "      <td>339995.0</td>\n",
       "      <td>2 bed flat</td>\n",
       "      <td>2017-01-17</td>\n",
       "      <td>2017-01-01</td>\n",
       "      <td>2017-01-31</td>\n",
       "    </tr>\n",
       "  </tbody>\n",
       "</table>\n",
       "</div>"
      ],
      "text/plain": [
       "                      location  listprice                description  \\\n",
       "0    Lordship Lane, London N17   625000.0  3 bed semi-detached house   \n",
       "1    Sperling Road, London N17   495000.0       3 bed terraced house   \n",
       "3      Ruskin Road, London N17   550000.0       6 bed terraced house   \n",
       "4  Handsworth Road, London N17   339995.0                 2 bed flat   \n",
       "\n",
       "    listdate        som        eom  \n",
       "0 2017-01-19 2017-01-01 2017-01-31  \n",
       "1 2017-01-18 2017-01-01 2017-01-31  \n",
       "3 2017-01-17 2017-01-01 2017-01-31  \n",
       "4 2017-01-17 2017-01-01 2017-01-31  "
      ]
     },
     "execution_count": 40,
     "metadata": {},
     "output_type": "execute_result"
    }
   ],
   "source": [
    "hp"
   ]
  },
  {
   "cell_type": "code",
   "execution_count": 44,
   "metadata": {},
   "outputs": [],
   "source": [
    "def pricebucket(b):\n",
    "    if b['listprice'] <= 350000:\n",
    "        return 'bargain'\n",
    "    elif b['listprice'] <= 500000:\n",
    "        return 'market rate'\n",
    "    elif b['listprice'] <=600000:\n",
    "        return 'a little overpriced'\n",
    "    elif b['listprice'] > 600000:\n",
    "        return 'avoid'\n",
    "    "
   ]
  },
  {
   "cell_type": "code",
   "execution_count": 47,
   "metadata": {},
   "outputs": [],
   "source": [
    "hp['pricedescription'] = hp.apply(lambda x: pricebucket(x), axis=1) #  to apply the price bucket created to all the rows in columns (as listprice is a column)"
   ]
  },
  {
   "cell_type": "code",
   "execution_count": 48,
   "metadata": {},
   "outputs": [
    {
     "data": {
      "text/html": [
       "<div>\n",
       "<table border=\"1\" class=\"dataframe\">\n",
       "  <thead>\n",
       "    <tr style=\"text-align: right;\">\n",
       "      <th></th>\n",
       "      <th>location</th>\n",
       "      <th>listprice</th>\n",
       "      <th>description</th>\n",
       "      <th>listdate</th>\n",
       "      <th>som</th>\n",
       "      <th>eom</th>\n",
       "      <th>pricedescription</th>\n",
       "    </tr>\n",
       "  </thead>\n",
       "  <tbody>\n",
       "    <tr>\n",
       "      <th>0</th>\n",
       "      <td>Lordship Lane, London N17</td>\n",
       "      <td>625000.0</td>\n",
       "      <td>3 bed semi-detached house</td>\n",
       "      <td>2017-01-19</td>\n",
       "      <td>2017-01-01</td>\n",
       "      <td>2017-01-31</td>\n",
       "      <td>avoid</td>\n",
       "    </tr>\n",
       "    <tr>\n",
       "      <th>1</th>\n",
       "      <td>Sperling Road, London N17</td>\n",
       "      <td>495000.0</td>\n",
       "      <td>3 bed terraced house</td>\n",
       "      <td>2017-01-18</td>\n",
       "      <td>2017-01-01</td>\n",
       "      <td>2017-01-31</td>\n",
       "      <td>market rate</td>\n",
       "    </tr>\n",
       "    <tr>\n",
       "      <th>3</th>\n",
       "      <td>Ruskin Road, London N17</td>\n",
       "      <td>550000.0</td>\n",
       "      <td>6 bed terraced house</td>\n",
       "      <td>2017-01-17</td>\n",
       "      <td>2017-01-01</td>\n",
       "      <td>2017-01-31</td>\n",
       "      <td>a little overpriced</td>\n",
       "    </tr>\n",
       "    <tr>\n",
       "      <th>4</th>\n",
       "      <td>Handsworth Road, London N17</td>\n",
       "      <td>339995.0</td>\n",
       "      <td>2 bed flat</td>\n",
       "      <td>2017-01-17</td>\n",
       "      <td>2017-01-01</td>\n",
       "      <td>2017-01-31</td>\n",
       "      <td>bargain</td>\n",
       "    </tr>\n",
       "  </tbody>\n",
       "</table>\n",
       "</div>"
      ],
      "text/plain": [
       "                      location  listprice                description  \\\n",
       "0    Lordship Lane, London N17   625000.0  3 bed semi-detached house   \n",
       "1    Sperling Road, London N17   495000.0       3 bed terraced house   \n",
       "3      Ruskin Road, London N17   550000.0       6 bed terraced house   \n",
       "4  Handsworth Road, London N17   339995.0                 2 bed flat   \n",
       "\n",
       "    listdate        som        eom     pricedescription  \n",
       "0 2017-01-19 2017-01-01 2017-01-31                avoid  \n",
       "1 2017-01-18 2017-01-01 2017-01-31          market rate  \n",
       "3 2017-01-17 2017-01-01 2017-01-31  a little overpriced  \n",
       "4 2017-01-17 2017-01-01 2017-01-31              bargain  "
      ]
     },
     "execution_count": 48,
     "metadata": {},
     "output_type": "execute_result"
    }
   ],
   "source": [
    "hp"
   ]
  },
  {
   "cell_type": "code",
   "execution_count": 56,
   "metadata": {},
   "outputs": [],
   "source": [
    "k = DataFrame(data=[['Lawrence', 38, 'M'],['Rory', 24, 'M'],['Jordan', 24, 'M'],['Izzy', 23, 'F'],['Rachel', 24, 'F']], columns=['Name', 'Age', 'Gender'])"
   ]
  },
  {
   "cell_type": "code",
   "execution_count": 57,
   "metadata": {},
   "outputs": [
    {
     "data": {
      "text/html": [
       "<div>\n",
       "<table border=\"1\" class=\"dataframe\">\n",
       "  <thead>\n",
       "    <tr style=\"text-align: right;\">\n",
       "      <th></th>\n",
       "      <th>Name</th>\n",
       "      <th>Age</th>\n",
       "      <th>Gender</th>\n",
       "    </tr>\n",
       "  </thead>\n",
       "  <tbody>\n",
       "    <tr>\n",
       "      <th>0</th>\n",
       "      <td>Lawrence</td>\n",
       "      <td>38</td>\n",
       "      <td>M</td>\n",
       "    </tr>\n",
       "    <tr>\n",
       "      <th>1</th>\n",
       "      <td>Rory</td>\n",
       "      <td>24</td>\n",
       "      <td>M</td>\n",
       "    </tr>\n",
       "    <tr>\n",
       "      <th>2</th>\n",
       "      <td>Jordan</td>\n",
       "      <td>24</td>\n",
       "      <td>M</td>\n",
       "    </tr>\n",
       "    <tr>\n",
       "      <th>3</th>\n",
       "      <td>Izzy</td>\n",
       "      <td>23</td>\n",
       "      <td>F</td>\n",
       "    </tr>\n",
       "    <tr>\n",
       "      <th>4</th>\n",
       "      <td>Rachel</td>\n",
       "      <td>24</td>\n",
       "      <td>F</td>\n",
       "    </tr>\n",
       "  </tbody>\n",
       "</table>\n",
       "</div>"
      ],
      "text/plain": [
       "       Name  Age Gender\n",
       "0  Lawrence   38      M\n",
       "1      Rory   24      M\n",
       "2    Jordan   24      M\n",
       "3      Izzy   23      F\n",
       "4    Rachel   24      F"
      ]
     },
     "execution_count": 57,
     "metadata": {},
     "output_type": "execute_result"
    }
   ],
   "source": [
    "k"
   ]
  },
  {
   "cell_type": "code",
   "execution_count": 58,
   "metadata": {},
   "outputs": [
    {
     "name": "stdout",
     "output_type": "stream",
     "text": [
      "('F',      Name  Age Gender\n",
      "3    Izzy   23      F\n",
      "4  Rachel   24      F)\n",
      "('M',        Name  Age Gender\n",
      "0  Lawrence   38      M\n",
      "1      Rory   24      M\n",
      "2    Jordan   24      M)\n"
     ]
    }
   ],
   "source": [
    "for r in k.groupby('Gender'):\n",
    "    print r"
   ]
  },
  {
   "cell_type": "code",
   "execution_count": 66,
   "metadata": {},
   "outputs": [
    {
     "data": {
      "text/html": [
       "<div>\n",
       "<table border=\"1\" class=\"dataframe\">\n",
       "  <thead>\n",
       "    <tr style=\"text-align: right;\">\n",
       "      <th></th>\n",
       "      <th>Name</th>\n",
       "      <th>Age</th>\n",
       "    </tr>\n",
       "    <tr>\n",
       "      <th>Gender</th>\n",
       "      <th></th>\n",
       "      <th></th>\n",
       "    </tr>\n",
       "  </thead>\n",
       "  <tbody>\n",
       "    <tr>\n",
       "      <th>F</th>\n",
       "      <td>Izzy, Rachel</td>\n",
       "      <td>23</td>\n",
       "    </tr>\n",
       "    <tr>\n",
       "      <th>M</th>\n",
       "      <td>Lawrence, Rory, Jordan</td>\n",
       "      <td>28</td>\n",
       "    </tr>\n",
       "  </tbody>\n",
       "</table>\n",
       "</div>"
      ],
      "text/plain": [
       "                          Name  Age\n",
       "Gender                             \n",
       "F                 Izzy, Rachel   23\n",
       "M       Lawrence, Rory, Jordan   28"
      ]
     },
     "execution_count": 66,
     "metadata": {},
     "output_type": "execute_result"
    }
   ],
   "source": [
    "k.groupby('Gender').agg(lambda row: (', '.join(row.Name), int(row.Age.mean())))"
   ]
  },
  {
   "cell_type": "code",
   "execution_count": null,
   "metadata": {
    "collapsed": true
   },
   "outputs": [],
   "source": []
  },
  {
   "cell_type": "code",
   "execution_count": null,
   "metadata": {
    "collapsed": true
   },
   "outputs": [],
   "source": []
  }
 ],
 "metadata": {
  "kernelspec": {
   "display_name": "Python 2",
   "language": "python",
   "name": "python2"
  },
  "language_info": {
   "codemirror_mode": {
    "name": "ipython",
    "version": 2
   },
   "file_extension": ".py",
   "mimetype": "text/x-python",
   "name": "python",
   "nbconvert_exporter": "python",
   "pygments_lexer": "ipython2",
   "version": "2.7.13"
  }
 },
 "nbformat": 4,
 "nbformat_minor": 2
}
