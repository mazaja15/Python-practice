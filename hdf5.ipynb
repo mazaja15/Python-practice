{
 "cells": [
  {
   "cell_type": "code",
   "execution_count": 3,
   "metadata": {
    "collapsed": true
   },
   "outputs": [],
   "source": [
    "import h5py\n",
    "import numpy as np\n",
    "import pandas as pd\n",
    "import encode_dataframe as edf"
   ]
  },
  {
   "cell_type": "code",
   "execution_count": 4,
   "metadata": {
    "collapsed": true
   },
   "outputs": [],
   "source": [
    "# open hdf5 file for reading\n",
    "f = pd.HDFStore(r\"C:\\Users\\Student\\Desktop\\AdditionalFiles\\subset_msd_summary_file.h5\", mode='r+')"
   ]
  },
  {
   "cell_type": "code",
   "execution_count": 5,
   "metadata": {},
   "outputs": [
    {
     "data": {
      "text/plain": [
       "['/analysis/songs', '/metadata/songs', '/musicbrainz/songs']"
      ]
     },
     "execution_count": 5,
     "metadata": {},
     "output_type": "execute_result"
    }
   ],
   "source": [
    "f.keys()"
   ]
  },
  {
   "cell_type": "code",
   "execution_count": 6,
   "metadata": {
    "collapsed": true
   },
   "outputs": [],
   "source": [
    "df1 = f.get('/analysis/songs')"
   ]
  },
  {
   "cell_type": "code",
   "execution_count": 7,
   "metadata": {},
   "outputs": [
    {
     "data": {
      "text/plain": [
       "pandas.core.frame.DataFrame"
      ]
     },
     "execution_count": 7,
     "metadata": {},
     "output_type": "execute_result"
    }
   ],
   "source": [
    "type(df1)"
   ]
  },
  {
   "cell_type": "code",
   "execution_count": 8,
   "metadata": {},
   "outputs": [
    {
     "data": {
      "text/html": [
       "<div>\n",
       "<table border=\"1\" class=\"dataframe\">\n",
       "  <thead>\n",
       "    <tr style=\"text-align: right;\">\n",
       "      <th></th>\n",
       "      <th>analysis_sample_rate</th>\n",
       "      <th>audio_md5</th>\n",
       "      <th>danceability</th>\n",
       "      <th>duration</th>\n",
       "      <th>end_of_fade_in</th>\n",
       "      <th>energy</th>\n",
       "      <th>idx_bars_confidence</th>\n",
       "      <th>idx_bars_start</th>\n",
       "      <th>idx_beats_confidence</th>\n",
       "      <th>idx_beats_start</th>\n",
       "      <th>...</th>\n",
       "      <th>key</th>\n",
       "      <th>key_confidence</th>\n",
       "      <th>loudness</th>\n",
       "      <th>mode</th>\n",
       "      <th>mode_confidence</th>\n",
       "      <th>start_of_fade_out</th>\n",
       "      <th>tempo</th>\n",
       "      <th>time_signature</th>\n",
       "      <th>time_signature_confidence</th>\n",
       "      <th>track_id</th>\n",
       "    </tr>\n",
       "  </thead>\n",
       "  <tbody>\n",
       "    <tr>\n",
       "      <th>0</th>\n",
       "      <td>22050</td>\n",
       "      <td>a600d65cf157a306be60f26ecbf218f4</td>\n",
       "      <td>0.0</td>\n",
       "      <td>280.21506</td>\n",
       "      <td>0.238</td>\n",
       "      <td>0.0</td>\n",
       "      <td>0</td>\n",
       "      <td>0</td>\n",
       "      <td>0</td>\n",
       "      <td>0</td>\n",
       "      <td>...</td>\n",
       "      <td>5</td>\n",
       "      <td>0.555</td>\n",
       "      <td>-3.306</td>\n",
       "      <td>1</td>\n",
       "      <td>0.500</td>\n",
       "      <td>275.528</td>\n",
       "      <td>173.205</td>\n",
       "      <td>5</td>\n",
       "      <td>0.120</td>\n",
       "      <td>TRACCVZ128F4291A8A</td>\n",
       "    </tr>\n",
       "    <tr>\n",
       "      <th>1</th>\n",
       "      <td>22050</td>\n",
       "      <td>c64d75b0588e5ab552ee94548b50a4fa</td>\n",
       "      <td>0.0</td>\n",
       "      <td>191.68608</td>\n",
       "      <td>0.000</td>\n",
       "      <td>0.0</td>\n",
       "      <td>0</td>\n",
       "      <td>0</td>\n",
       "      <td>0</td>\n",
       "      <td>0</td>\n",
       "      <td>...</td>\n",
       "      <td>0</td>\n",
       "      <td>0.501</td>\n",
       "      <td>-10.764</td>\n",
       "      <td>1</td>\n",
       "      <td>0.710</td>\n",
       "      <td>184.128</td>\n",
       "      <td>150.955</td>\n",
       "      <td>4</td>\n",
       "      <td>0.600</td>\n",
       "      <td>TRACCMH128F428E4CD</td>\n",
       "    </tr>\n",
       "    <tr>\n",
       "      <th>2</th>\n",
       "      <td>22050</td>\n",
       "      <td>0cadd310865701bb93ced1cd78e8910a</td>\n",
       "      <td>0.0</td>\n",
       "      <td>222.92853</td>\n",
       "      <td>0.000</td>\n",
       "      <td>0.0</td>\n",
       "      <td>0</td>\n",
       "      <td>0</td>\n",
       "      <td>0</td>\n",
       "      <td>0</td>\n",
       "      <td>...</td>\n",
       "      <td>1</td>\n",
       "      <td>0.329</td>\n",
       "      <td>-9.035</td>\n",
       "      <td>1</td>\n",
       "      <td>0.407</td>\n",
       "      <td>216.300</td>\n",
       "      <td>93.056</td>\n",
       "      <td>4</td>\n",
       "      <td>1.000</td>\n",
       "      <td>TRACCSW128F148C7C3</td>\n",
       "    </tr>\n",
       "    <tr>\n",
       "      <th>3</th>\n",
       "      <td>22050</td>\n",
       "      <td>14be4fc1170152c445b3be7b8d18dfec</td>\n",
       "      <td>0.0</td>\n",
       "      <td>278.38649</td>\n",
       "      <td>0.496</td>\n",
       "      <td>0.0</td>\n",
       "      <td>0</td>\n",
       "      <td>0</td>\n",
       "      <td>0</td>\n",
       "      <td>0</td>\n",
       "      <td>...</td>\n",
       "      <td>7</td>\n",
       "      <td>0.313</td>\n",
       "      <td>-23.095</td>\n",
       "      <td>1</td>\n",
       "      <td>0.387</td>\n",
       "      <td>278.386</td>\n",
       "      <td>127.113</td>\n",
       "      <td>1</td>\n",
       "      <td>0.446</td>\n",
       "      <td>TRACCXJ128F428F0CF</td>\n",
       "    </tr>\n",
       "    <tr>\n",
       "      <th>4</th>\n",
       "      <td>22050</td>\n",
       "      <td>1def5d8298e8cb29a188a5a7c0e9429a</td>\n",
       "      <td>0.0</td>\n",
       "      <td>89.15546</td>\n",
       "      <td>4.847</td>\n",
       "      <td>0.0</td>\n",
       "      <td>0</td>\n",
       "      <td>0</td>\n",
       "      <td>0</td>\n",
       "      <td>0</td>\n",
       "      <td>...</td>\n",
       "      <td>2</td>\n",
       "      <td>0.000</td>\n",
       "      <td>-20.359</td>\n",
       "      <td>1</td>\n",
       "      <td>0.000</td>\n",
       "      <td>79.203</td>\n",
       "      <td>90.660</td>\n",
       "      <td>3</td>\n",
       "      <td>0.524</td>\n",
       "      <td>TRACCVS12903D014F8</td>\n",
       "    </tr>\n",
       "  </tbody>\n",
       "</table>\n",
       "<p>5 rows × 31 columns</p>\n",
       "</div>"
      ],
      "text/plain": [
       "   analysis_sample_rate                         audio_md5  danceability  \\\n",
       "0                 22050  a600d65cf157a306be60f26ecbf218f4           0.0   \n",
       "1                 22050  c64d75b0588e5ab552ee94548b50a4fa           0.0   \n",
       "2                 22050  0cadd310865701bb93ced1cd78e8910a           0.0   \n",
       "3                 22050  14be4fc1170152c445b3be7b8d18dfec           0.0   \n",
       "4                 22050  1def5d8298e8cb29a188a5a7c0e9429a           0.0   \n",
       "\n",
       "    duration  end_of_fade_in  energy  idx_bars_confidence  idx_bars_start  \\\n",
       "0  280.21506           0.238     0.0                    0               0   \n",
       "1  191.68608           0.000     0.0                    0               0   \n",
       "2  222.92853           0.000     0.0                    0               0   \n",
       "3  278.38649           0.496     0.0                    0               0   \n",
       "4   89.15546           4.847     0.0                    0               0   \n",
       "\n",
       "   idx_beats_confidence  idx_beats_start         ...          key  \\\n",
       "0                     0                0         ...            5   \n",
       "1                     0                0         ...            0   \n",
       "2                     0                0         ...            1   \n",
       "3                     0                0         ...            7   \n",
       "4                     0                0         ...            2   \n",
       "\n",
       "   key_confidence  loudness  mode  mode_confidence  start_of_fade_out  \\\n",
       "0           0.555    -3.306     1            0.500            275.528   \n",
       "1           0.501   -10.764     1            0.710            184.128   \n",
       "2           0.329    -9.035     1            0.407            216.300   \n",
       "3           0.313   -23.095     1            0.387            278.386   \n",
       "4           0.000   -20.359     1            0.000             79.203   \n",
       "\n",
       "     tempo  time_signature  time_signature_confidence            track_id  \n",
       "0  173.205               5                      0.120  TRACCVZ128F4291A8A  \n",
       "1  150.955               4                      0.600  TRACCMH128F428E4CD  \n",
       "2   93.056               4                      1.000  TRACCSW128F148C7C3  \n",
       "3  127.113               1                      0.446  TRACCXJ128F428F0CF  \n",
       "4   90.660               3                      0.524  TRACCVS12903D014F8  \n",
       "\n",
       "[5 rows x 31 columns]"
      ]
     },
     "execution_count": 8,
     "metadata": {},
     "output_type": "execute_result"
    }
   ],
   "source": [
    "df1.head()"
   ]
  },
  {
   "cell_type": "code",
   "execution_count": 32,
   "metadata": {
    "collapsed": true
   },
   "outputs": [],
   "source": [
    "#for row in df1:\n",
    "#    row.encode('utf-8')\n",
    "#results = df1.append\n"
   ]
  },
  {
   "cell_type": "code",
   "execution_count": 21,
   "metadata": {
    "collapsed": true
   },
   "outputs": [],
   "source": [
    "#ndf = df1['idx_bars_confidence'].astype(float)"
   ]
  },
  {
   "cell_type": "code",
   "execution_count": 35,
   "metadata": {
    "collapsed": true
   },
   "outputs": [],
   "source": [
    "#ndf = df1['idx_bars_start'].astype(float)"
   ]
  },
  {
   "cell_type": "code",
   "execution_count": 14,
   "metadata": {
    "collapsed": true
   },
   "outputs": [],
   "source": [
    "df1.to_csv('Analysis.csv')"
   ]
  },
  {
   "cell_type": "code",
   "execution_count": 17,
   "metadata": {
    "collapsed": true
   },
   "outputs": [],
   "source": [
    "#for row in df2:\n",
    "#    row.encode('utf-8')\n",
    "#results = df2.append"
   ]
  },
  {
   "cell_type": "code",
   "execution_count": null,
   "metadata": {
    "collapsed": true
   },
   "outputs": [],
   "source": [
    "df2 = f.get('/metadata/songs')"
   ]
  },
  {
   "cell_type": "code",
   "execution_count": 18,
   "metadata": {},
   "outputs": [
    {
     "data": {
      "text/html": [
       "<div>\n",
       "<table border=\"1\" class=\"dataframe\">\n",
       "  <thead>\n",
       "    <tr style=\"text-align: right;\">\n",
       "      <th></th>\n",
       "      <th>analyzer_version</th>\n",
       "      <th>artist_7digitalid</th>\n",
       "      <th>artist_familiarity</th>\n",
       "      <th>artist_hotttnesss</th>\n",
       "      <th>artist_id</th>\n",
       "      <th>artist_latitude</th>\n",
       "      <th>artist_location</th>\n",
       "      <th>artist_longitude</th>\n",
       "      <th>artist_mbid</th>\n",
       "      <th>artist_name</th>\n",
       "      <th>artist_playmeid</th>\n",
       "      <th>genre</th>\n",
       "      <th>idx_artist_terms</th>\n",
       "      <th>idx_similar_artists</th>\n",
       "      <th>release</th>\n",
       "      <th>release_7digitalid</th>\n",
       "      <th>song_hotttnesss</th>\n",
       "      <th>song_id</th>\n",
       "      <th>title</th>\n",
       "      <th>track_7digitalid</th>\n",
       "    </tr>\n",
       "  </thead>\n",
       "  <tbody>\n",
       "    <tr>\n",
       "      <th>0</th>\n",
       "      <td></td>\n",
       "      <td>29785</td>\n",
       "      <td>0.780462</td>\n",
       "      <td>0.574275</td>\n",
       "      <td>ARMQHX71187B9890D3</td>\n",
       "      <td>NaN</td>\n",
       "      <td>Atlanta, GA</td>\n",
       "      <td>NaN</td>\n",
       "      <td>bc5e2ad6-0a4a-4d90-b911-e9a7e6861727</td>\n",
       "      <td>Mastodon</td>\n",
       "      <td>-1</td>\n",
       "      <td></td>\n",
       "      <td>0</td>\n",
       "      <td>0</td>\n",
       "      <td>Call of the Mastodon</td>\n",
       "      <td>223563</td>\n",
       "      <td>0.597641</td>\n",
       "      <td>SOVLGJY12A8C13FBED</td>\n",
       "      <td>Deep Sea Creature</td>\n",
       "      <td>2442524</td>\n",
       "    </tr>\n",
       "    <tr>\n",
       "      <th>1</th>\n",
       "      <td></td>\n",
       "      <td>167867</td>\n",
       "      <td>0.561590</td>\n",
       "      <td>0.420570</td>\n",
       "      <td>AR2PT4M1187FB55B1A</td>\n",
       "      <td>NaN</td>\n",
       "      <td></td>\n",
       "      <td>NaN</td>\n",
       "      <td>d54ea4a6-0b9c-4e47-bed0-289ae9ff4037</td>\n",
       "      <td>Los Chichos</td>\n",
       "      <td>1880</td>\n",
       "      <td></td>\n",
       "      <td>0</td>\n",
       "      <td>0</td>\n",
       "      <td>Adelante</td>\n",
       "      <td>221677</td>\n",
       "      <td>NaN</td>\n",
       "      <td>SOGDQZK12A8C13F37C</td>\n",
       "      <td>No Quieras Marcharte</td>\n",
       "      <td>2423472</td>\n",
       "    </tr>\n",
       "    <tr>\n",
       "      <th>2</th>\n",
       "      <td></td>\n",
       "      <td>7725</td>\n",
       "      <td>0.687687</td>\n",
       "      <td>0.406686</td>\n",
       "      <td>ARDI88R1187B98DAB2</td>\n",
       "      <td>NaN</td>\n",
       "      <td></td>\n",
       "      <td>NaN</td>\n",
       "      <td>fd87374e-ffde-4d36-89a8-8a073f795666</td>\n",
       "      <td>Foxy Brown</td>\n",
       "      <td>-1</td>\n",
       "      <td></td>\n",
       "      <td>0</td>\n",
       "      <td>0</td>\n",
       "      <td>Ill Na Na</td>\n",
       "      <td>47304</td>\n",
       "      <td>0.588922</td>\n",
       "      <td>SODMVJR12A6D4F985D</td>\n",
       "      <td>If I...</td>\n",
       "      <td>507029</td>\n",
       "    </tr>\n",
       "    <tr>\n",
       "      <th>3</th>\n",
       "      <td></td>\n",
       "      <td>2799</td>\n",
       "      <td>0.391741</td>\n",
       "      <td>0.291265</td>\n",
       "      <td>ARUKJUP12086C14589</td>\n",
       "      <td>NaN</td>\n",
       "      <td></td>\n",
       "      <td>NaN</td>\n",
       "      <td>8a5f2736-bcde-4a2e-8d50-72631d66a7ef</td>\n",
       "      <td>Ramón Vargas;Vladimir Jurowski</td>\n",
       "      <td>20111</td>\n",
       "      <td></td>\n",
       "      <td>0</td>\n",
       "      <td>0</td>\n",
       "      <td>Massenet: Werther</td>\n",
       "      <td>295123</td>\n",
       "      <td>NaN</td>\n",
       "      <td>SOIWBDR12A8C13A4AC</td>\n",
       "      <td>Werther - Lyric Drama in four Acts/Act I/Alors...</td>\n",
       "      <td>3343102</td>\n",
       "    </tr>\n",
       "    <tr>\n",
       "      <th>4</th>\n",
       "      <td></td>\n",
       "      <td>74269</td>\n",
       "      <td>0.593416</td>\n",
       "      <td>0.395710</td>\n",
       "      <td>ARZEWUR1187FB53DC8</td>\n",
       "      <td>50.45663</td>\n",
       "      <td>Belgica -- Namur, Namur/Ghent, East Flanders</td>\n",
       "      <td>4.87137</td>\n",
       "      <td>0be59867-0da4-4e45-9b64-728cdf25487c</td>\n",
       "      <td>Enthroned</td>\n",
       "      <td>55656</td>\n",
       "      <td></td>\n",
       "      <td>0</td>\n",
       "      <td>0</td>\n",
       "      <td>Pentagrammaton</td>\n",
       "      <td>785362</td>\n",
       "      <td>NaN</td>\n",
       "      <td>SOHCCIA12AC907577F</td>\n",
       "      <td>Ad Te Clamamus Exsvles Mortva Liberi</td>\n",
       "      <td>8688607</td>\n",
       "    </tr>\n",
       "  </tbody>\n",
       "</table>\n",
       "</div>"
      ],
      "text/plain": [
       "  analyzer_version  artist_7digitalid  artist_familiarity  artist_hotttnesss  \\\n",
       "0                               29785            0.780462           0.574275   \n",
       "1                              167867            0.561590           0.420570   \n",
       "2                                7725            0.687687           0.406686   \n",
       "3                                2799            0.391741           0.291265   \n",
       "4                               74269            0.593416           0.395710   \n",
       "\n",
       "            artist_id  artist_latitude  \\\n",
       "0  ARMQHX71187B9890D3              NaN   \n",
       "1  AR2PT4M1187FB55B1A              NaN   \n",
       "2  ARDI88R1187B98DAB2              NaN   \n",
       "3  ARUKJUP12086C14589              NaN   \n",
       "4  ARZEWUR1187FB53DC8         50.45663   \n",
       "\n",
       "                                artist_location  artist_longitude  \\\n",
       "0                                   Atlanta, GA               NaN   \n",
       "1                                                             NaN   \n",
       "2                                                             NaN   \n",
       "3                                                             NaN   \n",
       "4  Belgica -- Namur, Namur/Ghent, East Flanders           4.87137   \n",
       "\n",
       "                            artist_mbid                     artist_name  \\\n",
       "0  bc5e2ad6-0a4a-4d90-b911-e9a7e6861727                        Mastodon   \n",
       "1  d54ea4a6-0b9c-4e47-bed0-289ae9ff4037                     Los Chichos   \n",
       "2  fd87374e-ffde-4d36-89a8-8a073f795666                      Foxy Brown   \n",
       "3  8a5f2736-bcde-4a2e-8d50-72631d66a7ef  Ramón Vargas;Vladimir Jurowski   \n",
       "4  0be59867-0da4-4e45-9b64-728cdf25487c                       Enthroned   \n",
       "\n",
       "   artist_playmeid genre  idx_artist_terms  idx_similar_artists  \\\n",
       "0               -1                       0                    0   \n",
       "1             1880                       0                    0   \n",
       "2               -1                       0                    0   \n",
       "3            20111                       0                    0   \n",
       "4            55656                       0                    0   \n",
       "\n",
       "                release  release_7digitalid  song_hotttnesss  \\\n",
       "0  Call of the Mastodon              223563         0.597641   \n",
       "1              Adelante              221677              NaN   \n",
       "2             Ill Na Na               47304         0.588922   \n",
       "3     Massenet: Werther              295123              NaN   \n",
       "4        Pentagrammaton              785362              NaN   \n",
       "\n",
       "              song_id                                              title  \\\n",
       "0  SOVLGJY12A8C13FBED                                  Deep Sea Creature   \n",
       "1  SOGDQZK12A8C13F37C                               No Quieras Marcharte   \n",
       "2  SODMVJR12A6D4F985D                                            If I...   \n",
       "3  SOIWBDR12A8C13A4AC  Werther - Lyric Drama in four Acts/Act I/Alors...   \n",
       "4  SOHCCIA12AC907577F               Ad Te Clamamus Exsvles Mortva Liberi   \n",
       "\n",
       "   track_7digitalid  \n",
       "0           2442524  \n",
       "1           2423472  \n",
       "2            507029  \n",
       "3           3343102  \n",
       "4           8688607  "
      ]
     },
     "execution_count": 18,
     "metadata": {},
     "output_type": "execute_result"
    }
   ],
   "source": [
    "df2.head()"
   ]
  },
  {
   "cell_type": "code",
   "execution_count": 25,
   "metadata": {},
   "outputs": [],
   "source": [
    "df2.to_csv('Metadata3.csv', encoding='utf-8')"
   ]
  },
  {
   "cell_type": "code",
   "execution_count": 26,
   "metadata": {
    "collapsed": true
   },
   "outputs": [],
   "source": [
    "df3 = f.get('/musicbrainz/songs')"
   ]
  },
  {
   "cell_type": "code",
   "execution_count": 28,
   "metadata": {},
   "outputs": [
    {
     "data": {
      "text/html": [
       "<div>\n",
       "<table border=\"1\" class=\"dataframe\">\n",
       "  <thead>\n",
       "    <tr style=\"text-align: right;\">\n",
       "      <th></th>\n",
       "      <th>idx_artist_mbtags</th>\n",
       "      <th>year</th>\n",
       "    </tr>\n",
       "  </thead>\n",
       "  <tbody>\n",
       "    <tr>\n",
       "      <th>0</th>\n",
       "      <td>0</td>\n",
       "      <td>2001</td>\n",
       "    </tr>\n",
       "    <tr>\n",
       "      <th>1</th>\n",
       "      <td>0</td>\n",
       "      <td>1984</td>\n",
       "    </tr>\n",
       "    <tr>\n",
       "      <th>2</th>\n",
       "      <td>0</td>\n",
       "      <td>0</td>\n",
       "    </tr>\n",
       "    <tr>\n",
       "      <th>3</th>\n",
       "      <td>0</td>\n",
       "      <td>0</td>\n",
       "    </tr>\n",
       "    <tr>\n",
       "      <th>4</th>\n",
       "      <td>0</td>\n",
       "      <td>2010</td>\n",
       "    </tr>\n",
       "  </tbody>\n",
       "</table>\n",
       "</div>"
      ],
      "text/plain": [
       "   idx_artist_mbtags  year\n",
       "0                  0  2001\n",
       "1                  0  1984\n",
       "2                  0     0\n",
       "3                  0     0\n",
       "4                  0  2010"
      ]
     },
     "execution_count": 28,
     "metadata": {},
     "output_type": "execute_result"
    }
   ],
   "source": [
    "df3.head()"
   ]
  },
  {
   "cell_type": "code",
   "execution_count": 16,
   "metadata": {},
   "outputs": [],
   "source": [
    "df3.to_csv('Musicbrainz.csv')"
   ]
  },
  {
   "cell_type": "code",
   "execution_count": null,
   "metadata": {
    "collapsed": true
   },
   "outputs": [],
   "source": []
  }
 ],
 "metadata": {
  "kernelspec": {
   "display_name": "Python 2",
   "language": "python",
   "name": "python2"
  },
  "language_info": {
   "codemirror_mode": {
    "name": "ipython",
    "version": 2
   },
   "file_extension": ".py",
   "mimetype": "text/x-python",
   "name": "python",
   "nbconvert_exporter": "python",
   "pygments_lexer": "ipython2",
   "version": "2.7.13"
  }
 },
 "nbformat": 4,
 "nbformat_minor": 2
}
